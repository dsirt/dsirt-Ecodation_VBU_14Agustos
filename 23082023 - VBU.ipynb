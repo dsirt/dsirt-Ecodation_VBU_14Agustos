{
 "cells": [
  {
   "cell_type": "code",
   "execution_count": 1,
   "id": "68679d81",
   "metadata": {},
   "outputs": [],
   "source": [
    "import numpy as np\n",
    "import warnings\n",
    "warnings.filterwarnings('ignore')"
   ]
  },
  {
   "cell_type": "code",
   "execution_count": 2,
   "id": "9bf08ed7",
   "metadata": {},
   "outputs": [
    {
     "data": {
      "text/plain": [
       "[10, 20, 30, 40, 50, 60]"
      ]
     },
     "execution_count": 2,
     "metadata": {},
     "output_type": "execute_result"
    }
   ],
   "source": [
    "list1 = [10,20,30,40,50,60]\n",
    "list1"
   ]
  },
  {
   "cell_type": "code",
   "execution_count": 3,
   "id": "83944c26",
   "metadata": {},
   "outputs": [
    {
     "data": {
      "text/plain": [
       "list"
      ]
     },
     "execution_count": 3,
     "metadata": {},
     "output_type": "execute_result"
    }
   ],
   "source": [
    "type(list1)"
   ]
  },
  {
   "cell_type": "code",
   "execution_count": 4,
   "id": "baa8347f",
   "metadata": {},
   "outputs": [
    {
     "data": {
      "text/plain": [
       "array([10, 20, 30, 40, 50, 60])"
      ]
     },
     "execution_count": 4,
     "metadata": {},
     "output_type": "execute_result"
    }
   ],
   "source": [
    "arr1 = np.array(list1)\n",
    "arr1"
   ]
  },
  {
   "cell_type": "code",
   "execution_count": 5,
   "id": "89ab2b55",
   "metadata": {},
   "outputs": [
    {
     "data": {
      "text/plain": [
       "numpy.ndarray"
      ]
     },
     "execution_count": 5,
     "metadata": {},
     "output_type": "execute_result"
    }
   ],
   "source": [
    "type(arr1)"
   ]
  },
  {
   "cell_type": "code",
   "execution_count": 6,
   "id": "15323bd1",
   "metadata": {},
   "outputs": [
    {
     "data": {
      "text/plain": [
       "dtype('int32')"
      ]
     },
     "execution_count": 6,
     "metadata": {},
     "output_type": "execute_result"
    }
   ],
   "source": [
    "arr1.dtype"
   ]
  },
  {
   "cell_type": "code",
   "execution_count": 7,
   "id": "fc28aae0",
   "metadata": {},
   "outputs": [
    {
     "data": {
      "text/plain": [
       "array([10., 20., 30., 40., 50., 60.])"
      ]
     },
     "execution_count": 7,
     "metadata": {},
     "output_type": "execute_result"
    }
   ],
   "source": [
    "arr1.astype(float)"
   ]
  },
  {
   "cell_type": "code",
   "execution_count": 8,
   "id": "3798b274",
   "metadata": {},
   "outputs": [
    {
     "data": {
      "text/plain": [
       "array([0, 1, 2, 3, 4, 5, 6, 7, 8, 9])"
      ]
     },
     "execution_count": 8,
     "metadata": {},
     "output_type": "execute_result"
    }
   ],
   "source": [
    "np.arange(0, 10)"
   ]
  },
  {
   "cell_type": "code",
   "execution_count": 9,
   "id": "8fbb4df6",
   "metadata": {},
   "outputs": [
    {
     "data": {
      "text/plain": [
       "array([ 0, 10, 20, 30, 40, 50, 60, 70, 80, 90])"
      ]
     },
     "execution_count": 9,
     "metadata": {},
     "output_type": "execute_result"
    }
   ],
   "source": [
    "np.arange(0, 100, 10)"
   ]
  },
  {
   "cell_type": "code",
   "execution_count": 10,
   "id": "31b31f3e",
   "metadata": {},
   "outputs": [
    {
     "data": {
      "text/plain": [
       "array([100,  90,  80,  70,  60,  50,  40,  30,  20,  10])"
      ]
     },
     "execution_count": 10,
     "metadata": {},
     "output_type": "execute_result"
    }
   ],
   "source": [
    "np.arange(100, 0, -10)"
   ]
  },
  {
   "cell_type": "code",
   "execution_count": 12,
   "id": "46f4c757",
   "metadata": {},
   "outputs": [
    {
     "data": {
      "text/plain": [
       "(10,)"
      ]
     },
     "execution_count": 12,
     "metadata": {},
     "output_type": "execute_result"
    }
   ],
   "source": [
    "arr3 = np.arange(0, 10)\n",
    "arr3.shape"
   ]
  },
  {
   "cell_type": "code",
   "execution_count": 13,
   "id": "5df62918",
   "metadata": {},
   "outputs": [
    {
     "data": {
      "text/plain": [
       "10"
      ]
     },
     "execution_count": 13,
     "metadata": {},
     "output_type": "execute_result"
    }
   ],
   "source": [
    "arr3.size"
   ]
  },
  {
   "cell_type": "code",
   "execution_count": 14,
   "id": "c84950bd",
   "metadata": {},
   "outputs": [
    {
     "data": {
      "text/plain": [
       "dtype('int32')"
      ]
     },
     "execution_count": 14,
     "metadata": {},
     "output_type": "execute_result"
    }
   ],
   "source": [
    "arr3.dtype"
   ]
  },
  {
   "cell_type": "code",
   "execution_count": 15,
   "id": "63ff9fd4",
   "metadata": {},
   "outputs": [
    {
     "data": {
      "text/plain": [
       "40"
      ]
     },
     "execution_count": 15,
     "metadata": {},
     "output_type": "execute_result"
    }
   ],
   "source": [
    "arr3.nbytes"
   ]
  },
  {
   "cell_type": "code",
   "execution_count": 16,
   "id": "83ffca6b",
   "metadata": {},
   "outputs": [
    {
     "data": {
      "text/plain": [
       "10"
      ]
     },
     "execution_count": 16,
     "metadata": {},
     "output_type": "execute_result"
    }
   ],
   "source": [
    "len(arr3)"
   ]
  },
  {
   "cell_type": "code",
   "execution_count": 17,
   "id": "7406f00f",
   "metadata": {},
   "outputs": [
    {
     "data": {
      "text/plain": [
       "1"
      ]
     },
     "execution_count": 17,
     "metadata": {},
     "output_type": "execute_result"
    }
   ],
   "source": [
    "arr3.ndim"
   ]
  },
  {
   "cell_type": "code",
   "execution_count": 18,
   "id": "04b50a13",
   "metadata": {},
   "outputs": [
    {
     "data": {
      "text/plain": [
       "array([0., 0., 0., 0., 0., 0., 0., 0., 0., 0.])"
      ]
     },
     "execution_count": 18,
     "metadata": {},
     "output_type": "execute_result"
    }
   ],
   "source": [
    "np.zeros(10)"
   ]
  },
  {
   "cell_type": "code",
   "execution_count": 19,
   "id": "57b7cc0c",
   "metadata": {},
   "outputs": [
    {
     "data": {
      "text/plain": [
       "array([1., 1., 1., 1., 1., 1., 1., 1., 1., 1.])"
      ]
     },
     "execution_count": 19,
     "metadata": {},
     "output_type": "execute_result"
    }
   ],
   "source": [
    "np.ones(10)"
   ]
  },
  {
   "cell_type": "code",
   "execution_count": 20,
   "id": "874f499f",
   "metadata": {},
   "outputs": [
    {
     "data": {
      "text/plain": [
       "array([10, 10, 10, 10, 10])"
      ]
     },
     "execution_count": 20,
     "metadata": {},
     "output_type": "execute_result"
    }
   ],
   "source": [
    "np.repeat(10, 5)"
   ]
  },
  {
   "cell_type": "code",
   "execution_count": 21,
   "id": "a8469555",
   "metadata": {},
   "outputs": [
    {
     "data": {
      "text/plain": [
       "array([10, 10, 10, 20, 20, 20, 30, 30, 30])"
      ]
     },
     "execution_count": 21,
     "metadata": {},
     "output_type": "execute_result"
    }
   ],
   "source": [
    "a = np.array([10, 20, 30])\n",
    "np.repeat(a, 3)"
   ]
  },
  {
   "cell_type": "code",
   "execution_count": 22,
   "id": "577d534e",
   "metadata": {},
   "outputs": [
    {
     "data": {
      "text/plain": [
       "array([10, 10, 10, 10, 10])"
      ]
     },
     "execution_count": 22,
     "metadata": {},
     "output_type": "execute_result"
    }
   ],
   "source": [
    "np.full(5, 10)"
   ]
  },
  {
   "cell_type": "code",
   "execution_count": 23,
   "id": "78ce8343",
   "metadata": {},
   "outputs": [
    {
     "data": {
      "text/plain": [
       "array([ 1,  3,  5,  7,  9, 11, 13, 15, 17, 19])"
      ]
     },
     "execution_count": 23,
     "metadata": {},
     "output_type": "execute_result"
    }
   ],
   "source": [
    "ar1 = np.arange(1, 20)\n",
    "ar1[ar1 % 2 == 1]"
   ]
  },
  {
   "cell_type": "code",
   "execution_count": 26,
   "id": "904b1e35",
   "metadata": {},
   "outputs": [
    {
     "data": {
      "text/plain": [
       "array([ 0,  2,  4,  6,  8, 10, 12, 14, 16, 18, 20])"
      ]
     },
     "execution_count": 26,
     "metadata": {},
     "output_type": "execute_result"
    }
   ],
   "source": [
    "ar1 = np.arange(0, 22)\n",
    "ar1[ar1 % 2 == 0]"
   ]
  },
  {
   "cell_type": "code",
   "execution_count": 27,
   "id": "496a2ee2",
   "metadata": {},
   "outputs": [
    {
     "data": {
      "text/plain": [
       "array([10.        , 13.33333333, 16.66666667, 20.        ])"
      ]
     },
     "execution_count": 27,
     "metadata": {},
     "output_type": "execute_result"
    }
   ],
   "source": [
    "np.linspace(10, 20, 4) #eşit aralıklı sayılar oluşturur"
   ]
  },
  {
   "cell_type": "code",
   "execution_count": 28,
   "id": "4c0862f6",
   "metadata": {},
   "outputs": [
    {
     "data": {
      "text/plain": [
       "array([10., 11., 12., 13., 14., 15., 16., 17., 18., 19., 20.])"
      ]
     },
     "execution_count": 28,
     "metadata": {},
     "output_type": "execute_result"
    }
   ],
   "source": [
    "np.linspace(10,20,11)"
   ]
  },
  {
   "cell_type": "code",
   "execution_count": 29,
   "id": "8822a961",
   "metadata": {},
   "outputs": [
    {
     "data": {
      "text/plain": [
       "array([0.17994287, 0.02764017, 0.89811116, 0.99095014])"
      ]
     },
     "execution_count": 29,
     "metadata": {},
     "output_type": "execute_result"
    }
   ],
   "source": [
    "np.random.random(4)"
   ]
  },
  {
   "cell_type": "code",
   "execution_count": 30,
   "id": "b50a52a3",
   "metadata": {},
   "outputs": [
    {
     "data": {
      "text/plain": [
       "array([177, 254, 427, 269,  85])"
      ]
     },
     "execution_count": 30,
     "metadata": {},
     "output_type": "execute_result"
    }
   ],
   "source": [
    "np.random.randint(0, 500, 5)"
   ]
  },
  {
   "cell_type": "code",
   "execution_count": 31,
   "id": "b0221084",
   "metadata": {},
   "outputs": [
    {
     "data": {
      "text/plain": [
       "array([287, 354,  98, 463, 130, 266, 128, 420, 304, 227])"
      ]
     },
     "execution_count": 31,
     "metadata": {},
     "output_type": "execute_result"
    }
   ],
   "source": [
    "np.random.randint(0, 500, 10)"
   ]
  },
  {
   "cell_type": "code",
   "execution_count": 32,
   "id": "2cc96131",
   "metadata": {},
   "outputs": [],
   "source": [
    "#seed"
   ]
  },
  {
   "cell_type": "code",
   "execution_count": 33,
   "id": "d012a1a2",
   "metadata": {},
   "outputs": [
    {
     "data": {
      "text/plain": [
       "array([66, 92, 98, 17, 83, 57, 86, 97, 96, 47])"
      ]
     },
     "execution_count": 33,
     "metadata": {},
     "output_type": "execute_result"
    }
   ],
   "source": [
    "np.random.seed(123)\n",
    "np.random.randint(0, 100, 10)"
   ]
  },
  {
   "cell_type": "code",
   "execution_count": 35,
   "id": "a51f84e1",
   "metadata": {},
   "outputs": [
    {
     "data": {
      "text/plain": [
       "array([66, 92, 98, 17, 83, 57, 86, 97, 96, 47])"
      ]
     },
     "execution_count": 35,
     "metadata": {},
     "output_type": "execute_result"
    }
   ],
   "source": [
    "np.random.seed(123)\n",
    "np.random.randint(0, 100, 10)"
   ]
  },
  {
   "cell_type": "code",
   "execution_count": 36,
   "id": "82ad18f6",
   "metadata": {},
   "outputs": [
    {
     "data": {
      "text/plain": [
       "array([95, 11, 81, 70, 63, 87, 75,  9, 77, 40])"
      ]
     },
     "execution_count": 36,
     "metadata": {},
     "output_type": "execute_result"
    }
   ],
   "source": [
    "np.random.seed(101)\n",
    "np.random.randint(0, 100, 10)"
   ]
  },
  {
   "cell_type": "code",
   "execution_count": 37,
   "id": "d2e35b0b",
   "metadata": {},
   "outputs": [
    {
     "data": {
      "text/plain": [
       "array([95, 11, 81, 70, 63, 87, 75,  9, 77, 40])"
      ]
     },
     "execution_count": 37,
     "metadata": {},
     "output_type": "execute_result"
    }
   ],
   "source": [
    "np.random.seed(101)\n",
    "np.random.randint(0, 100, 10)"
   ]
  },
  {
   "cell_type": "code",
   "execution_count": 38,
   "id": "9177fd7e",
   "metadata": {},
   "outputs": [
    {
     "data": {
      "text/plain": [
       "array([6.5348311 , 9.4680654 , 8.60771931, 5.94969477, 7.77113796,\n",
       "       6.76065977, 5.90946201, 8.92800881, 9.82741611, 6.16176831])"
      ]
     },
     "execution_count": 38,
     "metadata": {},
     "output_type": "execute_result"
    }
   ],
   "source": [
    "f1 = np.random.uniform(5, 10, size = (10))\n",
    "f1"
   ]
  },
  {
   "cell_type": "code",
   "execution_count": 39,
   "id": "ba8101ef",
   "metadata": {},
   "outputs": [
    {
     "data": {
      "text/plain": [
       "array([6., 9., 8., 5., 7., 6., 5., 8., 9., 6.])"
      ]
     },
     "execution_count": 39,
     "metadata": {},
     "output_type": "execute_result"
    }
   ],
   "source": [
    "np.floor(f1)"
   ]
  },
  {
   "cell_type": "code",
   "execution_count": 41,
   "id": "32376cd9",
   "metadata": {},
   "outputs": [
    {
     "data": {
      "text/plain": [
       "array([6., 9., 8., 5., 7., 6., 5., 8., 9., 6.])"
      ]
     },
     "execution_count": 41,
     "metadata": {},
     "output_type": "execute_result"
    }
   ],
   "source": [
    "np.trunc(f1)"
   ]
  },
  {
   "cell_type": "code",
   "execution_count": 42,
   "id": "d4bc5303",
   "metadata": {},
   "outputs": [
    {
     "data": {
      "text/plain": [
       "array([6, 9, 8, 5, 7, 6, 5, 8, 9, 6])"
      ]
     },
     "execution_count": 42,
     "metadata": {},
     "output_type": "execute_result"
    }
   ],
   "source": [
    "f1.astype(int)"
   ]
  },
  {
   "cell_type": "code",
   "execution_count": 43,
   "id": "b2a6a98c",
   "metadata": {},
   "outputs": [
    {
     "data": {
      "text/plain": [
       "array([ 0.18869531, -0.75887206, -0.93323722,  0.95505651,  0.19079432,\n",
       "        1.97875732,  2.60596728,  0.68350889,  0.30266545,  1.69372293])"
      ]
     },
     "execution_count": 43,
     "metadata": {},
     "output_type": "execute_result"
    }
   ],
   "source": [
    "#Normal Dağılım (mean = 0, variance = 1)\n",
    "b2 = np.random.randn(10)\n",
    "b2"
   ]
  },
  {
   "cell_type": "code",
   "execution_count": 44,
   "id": "1d276f61",
   "metadata": {},
   "outputs": [
    {
     "data": {
      "text/plain": [
       "array([10, 20, 30, 40, 50, 60])"
      ]
     },
     "execution_count": 44,
     "metadata": {},
     "output_type": "execute_result"
    }
   ],
   "source": [
    "arr1"
   ]
  },
  {
   "cell_type": "code",
   "execution_count": 45,
   "id": "cc99f238",
   "metadata": {},
   "outputs": [
    {
     "name": "stdout",
     "output_type": "stream",
     "text": [
      "(0,) 10\n",
      "(1,) 20\n",
      "(2,) 30\n",
      "(3,) 40\n",
      "(4,) 50\n",
      "(5,) 60\n"
     ]
    }
   ],
   "source": [
    "for index, value in np.ndenumerate(arr1):\n",
    "    print(index, value)"
   ]
  },
  {
   "cell_type": "code",
   "execution_count": 46,
   "id": "1cd08ad2",
   "metadata": {},
   "outputs": [
    {
     "data": {
      "text/plain": [
       "array([ 0,  1,  2,  3,  4,  5,  6,  7,  8,  9, 10, 11, 12, 13, 14, 15, 16,\n",
       "       17, 18, 19])"
      ]
     },
     "execution_count": 46,
     "metadata": {},
     "output_type": "execute_result"
    }
   ],
   "source": [
    "arr2 = np.arange(0, 20)\n",
    "arr2"
   ]
  },
  {
   "cell_type": "code",
   "execution_count": 47,
   "id": "9b5794b0",
   "metadata": {},
   "outputs": [
    {
     "data": {
      "text/plain": [
       "190"
      ]
     },
     "execution_count": 47,
     "metadata": {},
     "output_type": "execute_result"
    }
   ],
   "source": [
    "arr2.sum()"
   ]
  },
  {
   "cell_type": "code",
   "execution_count": 48,
   "id": "71970033",
   "metadata": {},
   "outputs": [
    {
     "data": {
      "text/plain": [
       "array([  0,   1,   3,   6,  10,  15,  21,  28,  36,  45,  55,  66,  78,\n",
       "        91, 105, 120, 136, 153, 171, 190], dtype=int32)"
      ]
     },
     "execution_count": 48,
     "metadata": {},
     "output_type": "execute_result"
    }
   ],
   "source": [
    "np.cumsum(arr2)"
   ]
  },
  {
   "cell_type": "code",
   "execution_count": 49,
   "id": "592aa117",
   "metadata": {},
   "outputs": [],
   "source": [
    "#min(), max(), argmin(), argmax(), mean(), median(), var()"
   ]
  },
  {
   "cell_type": "code",
   "execution_count": 50,
   "id": "38a0c57e",
   "metadata": {},
   "outputs": [
    {
     "data": {
      "text/plain": [
       "5.766281297335398"
      ]
     },
     "execution_count": 50,
     "metadata": {},
     "output_type": "execute_result"
    }
   ],
   "source": [
    "np.std(arr2)"
   ]
  },
  {
   "cell_type": "code",
   "execution_count": 51,
   "id": "01e87345",
   "metadata": {},
   "outputs": [
    {
     "data": {
      "text/plain": [
       "array([[ 1,  2,  3,  0],\n",
       "       [ 5,  6,  7, 22],\n",
       "       [10, 11,  1, 13],\n",
       "       [14, 15, 16,  3]])"
      ]
     },
     "execution_count": 51,
     "metadata": {},
     "output_type": "execute_result"
    }
   ],
   "source": [
    "A = np.array([[1,2,3,0], [5,6,7,22], [10, 11, 1, 13], [14,15,16,3]])\n",
    "A"
   ]
  },
  {
   "cell_type": "code",
   "execution_count": 52,
   "id": "b6719530",
   "metadata": {},
   "outputs": [
    {
     "data": {
      "text/plain": [
       "129"
      ]
     },
     "execution_count": 52,
     "metadata": {},
     "output_type": "execute_result"
    }
   ],
   "source": [
    "A.sum()"
   ]
  },
  {
   "cell_type": "code",
   "execution_count": 53,
   "id": "7a587fd6",
   "metadata": {},
   "outputs": [
    {
     "data": {
      "text/plain": [
       "22"
      ]
     },
     "execution_count": 53,
     "metadata": {},
     "output_type": "execute_result"
    }
   ],
   "source": [
    "A.max()"
   ]
  },
  {
   "cell_type": "code",
   "execution_count": 54,
   "id": "e83c3cf8",
   "metadata": {},
   "outputs": [
    {
     "data": {
      "text/plain": [
       "0"
      ]
     },
     "execution_count": 54,
     "metadata": {},
     "output_type": "execute_result"
    }
   ],
   "source": [
    "A.min()"
   ]
  },
  {
   "cell_type": "code",
   "execution_count": 55,
   "id": "4d90f476",
   "metadata": {},
   "outputs": [
    {
     "data": {
      "text/plain": [
       "array([1, 2, 1, 0])"
      ]
     },
     "execution_count": 55,
     "metadata": {},
     "output_type": "execute_result"
    }
   ],
   "source": [
    "np.amin(A, axis = 0) #sütun bazlı minimum değer"
   ]
  },
  {
   "cell_type": "code",
   "execution_count": 56,
   "id": "1f8e6f50",
   "metadata": {},
   "outputs": [
    {
     "data": {
      "text/plain": [
       "array([0, 5, 1, 3])"
      ]
     },
     "execution_count": 56,
     "metadata": {},
     "output_type": "execute_result"
    }
   ],
   "source": [
    "np.amin(A, axis = 1)"
   ]
  },
  {
   "cell_type": "code",
   "execution_count": 57,
   "id": "bb178048",
   "metadata": {},
   "outputs": [
    {
     "data": {
      "text/plain": [
       "8.0625"
      ]
     },
     "execution_count": 57,
     "metadata": {},
     "output_type": "execute_result"
    }
   ],
   "source": [
    "A.mean()"
   ]
  },
  {
   "cell_type": "code",
   "execution_count": 58,
   "id": "2ee93b92",
   "metadata": {},
   "outputs": [
    {
     "data": {
      "text/plain": [
       "8.0625"
      ]
     },
     "execution_count": 58,
     "metadata": {},
     "output_type": "execute_result"
    }
   ],
   "source": [
    "np.mean(A)"
   ]
  },
  {
   "cell_type": "code",
   "execution_count": 59,
   "id": "a0e85fbb",
   "metadata": {},
   "outputs": [
    {
     "data": {
      "text/plain": [
       "6.5"
      ]
     },
     "execution_count": 59,
     "metadata": {},
     "output_type": "execute_result"
    }
   ],
   "source": [
    "np.median(A)"
   ]
  },
  {
   "cell_type": "code",
   "execution_count": 60,
   "id": "021ef0f8",
   "metadata": {},
   "outputs": [
    {
     "name": "stdout",
     "output_type": "stream",
     "text": [
      "(0, 0) 1\n",
      "(0, 1) 2\n",
      "(0, 2) 3\n",
      "(0, 3) 0\n",
      "(1, 0) 5\n",
      "(1, 1) 6\n",
      "(1, 2) 7\n",
      "(1, 3) 22\n",
      "(2, 0) 10\n",
      "(2, 1) 11\n",
      "(2, 2) 1\n",
      "(2, 3) 13\n",
      "(3, 0) 14\n",
      "(3, 1) 15\n",
      "(3, 2) 16\n",
      "(3, 3) 3\n"
     ]
    }
   ],
   "source": [
    "for index, value in np.ndenumerate(A):\n",
    "    print(index, value)"
   ]
  },
  {
   "cell_type": "code",
   "execution_count": 61,
   "id": "2fc6413b",
   "metadata": {},
   "outputs": [],
   "source": [
    "#Bir dizinin elemanlarını okuma"
   ]
  },
  {
   "cell_type": "code",
   "execution_count": 62,
   "id": "76119364",
   "metadata": {},
   "outputs": [
    {
     "data": {
      "text/plain": [
       "array([7, 5, 3, 9, 0, 2])"
      ]
     },
     "execution_count": 62,
     "metadata": {},
     "output_type": "execute_result"
    }
   ],
   "source": [
    "a = np.array([7, 5, 3, 9, 0, 2])\n",
    "a"
   ]
  },
  {
   "cell_type": "code",
   "execution_count": 63,
   "id": "d054e248",
   "metadata": {},
   "outputs": [
    {
     "data": {
      "text/plain": [
       "7"
      ]
     },
     "execution_count": 63,
     "metadata": {},
     "output_type": "execute_result"
    }
   ],
   "source": [
    "a[0]"
   ]
  },
  {
   "cell_type": "code",
   "execution_count": 64,
   "id": "20661b00",
   "metadata": {},
   "outputs": [
    {
     "data": {
      "text/plain": [
       "array([5, 3, 9])"
      ]
     },
     "execution_count": 64,
     "metadata": {},
     "output_type": "execute_result"
    }
   ],
   "source": [
    "a[1:4]"
   ]
  },
  {
   "cell_type": "code",
   "execution_count": 65,
   "id": "e955a3b5",
   "metadata": {},
   "outputs": [
    {
     "data": {
      "text/plain": [
       "2"
      ]
     },
     "execution_count": 65,
     "metadata": {},
     "output_type": "execute_result"
    }
   ],
   "source": [
    "a[-1]"
   ]
  },
  {
   "cell_type": "code",
   "execution_count": 66,
   "id": "ca3b3e98",
   "metadata": {},
   "outputs": [
    {
     "data": {
      "text/plain": [
       "array([9, 0])"
      ]
     },
     "execution_count": 66,
     "metadata": {},
     "output_type": "execute_result"
    }
   ],
   "source": [
    "a[-3:-1]"
   ]
  },
  {
   "cell_type": "code",
   "execution_count": 67,
   "id": "66d1cd99",
   "metadata": {},
   "outputs": [],
   "source": [
    "#Dizi içerisindeki elemanları değiştirme"
   ]
  },
  {
   "cell_type": "code",
   "execution_count": 68,
   "id": "a9aef119",
   "metadata": {},
   "outputs": [
    {
     "data": {
      "text/plain": [
       "array([ 1,  2,  3,  4,  5,  6,  7,  8,  9, 10, 11, 12, 13, 14, 15, 16, 17,\n",
       "       18, 19])"
      ]
     },
     "execution_count": 68,
     "metadata": {},
     "output_type": "execute_result"
    }
   ],
   "source": [
    "ar = np.arange(1, 20)\n",
    "ar"
   ]
  },
  {
   "cell_type": "code",
   "execution_count": 69,
   "id": "346991e7",
   "metadata": {},
   "outputs": [
    {
     "name": "stdout",
     "output_type": "stream",
     "text": [
      "[ 1  0  3  0  5  0  7  0  9  0 11  0 13  0 15  0 17  0 19]\n"
     ]
    }
   ],
   "source": [
    "rep1 = np.where(ar % 2 == 0, 0, ar)\n",
    "print(rep1)"
   ]
  },
  {
   "cell_type": "code",
   "execution_count": 70,
   "id": "2abc6ed4",
   "metadata": {},
   "outputs": [
    {
     "data": {
      "text/plain": [
       "array([10, 20, 30, 10, 10, 20, 20])"
      ]
     },
     "execution_count": 70,
     "metadata": {},
     "output_type": "execute_result"
    }
   ],
   "source": [
    "ar2 = np.array([10,20,30,10,10,20,20])\n",
    "ar2"
   ]
  },
  {
   "cell_type": "code",
   "execution_count": 71,
   "id": "a255a1ce",
   "metadata": {},
   "outputs": [
    {
     "name": "stdout",
     "output_type": "stream",
     "text": [
      "[99 20 30 99 99 20 20]\n"
     ]
    }
   ],
   "source": [
    "rep2 = np.where(ar2 == 10, 99 ,ar2)\n",
    "print(rep2)"
   ]
  },
  {
   "cell_type": "code",
   "execution_count": 72,
   "id": "fe5c8db3",
   "metadata": {},
   "outputs": [
    {
     "data": {
      "text/plain": [
       "array([ 0, 10, 20, 30, 40, 50, 60, 70, 80, 90])"
      ]
     },
     "execution_count": 72,
     "metadata": {},
     "output_type": "execute_result"
    }
   ],
   "source": [
    "p2 = np.arange(0, 100, 10)\n",
    "p2"
   ]
  },
  {
   "cell_type": "code",
   "execution_count": 73,
   "id": "47f39284",
   "metadata": {},
   "outputs": [
    {
     "data": {
      "text/plain": [
       "array([33, 10, 20, 55, 40, 99, 60, 70, 80, 90])"
      ]
     },
     "execution_count": 73,
     "metadata": {},
     "output_type": "execute_result"
    }
   ],
   "source": [
    "np.put(p2, [0,3,5], [33,55,99])\n",
    "p2"
   ]
  },
  {
   "cell_type": "code",
   "execution_count": 74,
   "id": "c8d4ac65",
   "metadata": {},
   "outputs": [],
   "source": [
    "#Eksik değerler ile ilgilenme"
   ]
  },
  {
   "cell_type": "code",
   "execution_count": 75,
   "id": "c8d2f080",
   "metadata": {},
   "outputs": [
    {
     "data": {
      "text/plain": [
       "array([10., nan, 20., 30., 60., nan, 90., inf])"
      ]
     },
     "execution_count": 75,
     "metadata": {},
     "output_type": "execute_result"
    }
   ],
   "source": [
    "a = np.array([10, np.nan, 20, 30, 60, np.nan, 90, np.inf])\n",
    "a"
   ]
  },
  {
   "cell_type": "code",
   "execution_count": 76,
   "id": "79b163e1",
   "metadata": {},
   "outputs": [
    {
     "data": {
      "text/plain": [
       "array([False,  True, False, False, False,  True, False, False])"
      ]
     },
     "execution_count": 76,
     "metadata": {},
     "output_type": "execute_result"
    }
   ],
   "source": [
    "np.isnan(a)"
   ]
  },
  {
   "cell_type": "code",
   "execution_count": 77,
   "id": "f724ef47",
   "metadata": {},
   "outputs": [
    {
     "data": {
      "text/plain": [
       "(array([1, 5], dtype=int64),)"
      ]
     },
     "execution_count": 77,
     "metadata": {},
     "output_type": "execute_result"
    }
   ],
   "source": [
    "np.where(np.isnan(a))"
   ]
  },
  {
   "cell_type": "code",
   "execution_count": 78,
   "id": "a77b146c",
   "metadata": {},
   "outputs": [
    {
     "data": {
      "text/plain": [
       "array([10., 99., 20., 30., 60., 99., 90., inf])"
      ]
     },
     "execution_count": 78,
     "metadata": {},
     "output_type": "execute_result"
    }
   ],
   "source": [
    "a[np.isnan(a)] = 99\n",
    "a"
   ]
  },
  {
   "cell_type": "code",
   "execution_count": 79,
   "id": "d8f89e08",
   "metadata": {},
   "outputs": [
    {
     "data": {
      "text/plain": [
       "False"
      ]
     },
     "execution_count": 79,
     "metadata": {},
     "output_type": "execute_result"
    }
   ],
   "source": [
    "np.isnan(a).any()"
   ]
  },
  {
   "cell_type": "code",
   "execution_count": 80,
   "id": "dfe2e268",
   "metadata": {},
   "outputs": [
    {
     "data": {
      "text/plain": [
       "array([[ 1.,  2., nan,  4.],\n",
       "       [nan,  6.,  7.,  8.],\n",
       "       [10., nan, 12., 13.],\n",
       "       [14., 15., 16., 17.]])"
      ]
     },
     "execution_count": 80,
     "metadata": {},
     "output_type": "execute_result"
    }
   ],
   "source": [
    "A = np.array([[1,2,np.nan,4], [np.nan,6,7,8], [10, np.nan, 12, 13], [14, 15, 16, 17]])\n",
    "A"
   ]
  },
  {
   "cell_type": "code",
   "execution_count": 81,
   "id": "6b41ab38",
   "metadata": {},
   "outputs": [
    {
     "data": {
      "text/plain": [
       "array([[False, False,  True, False],\n",
       "       [ True, False, False, False],\n",
       "       [False,  True, False, False],\n",
       "       [False, False, False, False]])"
      ]
     },
     "execution_count": 81,
     "metadata": {},
     "output_type": "execute_result"
    }
   ],
   "source": [
    "np.isnan(A)"
   ]
  },
  {
   "cell_type": "code",
   "execution_count": 82,
   "id": "2a548788",
   "metadata": {},
   "outputs": [
    {
     "data": {
      "text/plain": [
       "(array([0, 1, 2], dtype=int64), array([2, 0, 1], dtype=int64))"
      ]
     },
     "execution_count": 82,
     "metadata": {},
     "output_type": "execute_result"
    }
   ],
   "source": [
    "np.where(np.isnan(A))"
   ]
  },
  {
   "cell_type": "code",
   "execution_count": 83,
   "id": "7ba0d45e",
   "metadata": {},
   "outputs": [],
   "source": [
    "#Dizileri Birleştirme"
   ]
  },
  {
   "cell_type": "code",
   "execution_count": 84,
   "id": "35e34bd6",
   "metadata": {},
   "outputs": [
    {
     "data": {
      "text/plain": [
       "array([[0., 0., 0., 0., 0., 0., 0., 0., 0., 0.],\n",
       "       [0., 0., 0., 0., 0., 0., 0., 0., 0., 0.]])"
      ]
     },
     "execution_count": 84,
     "metadata": {},
     "output_type": "execute_result"
    }
   ],
   "source": [
    "a = np.zeros(20).reshape(2, -1)\n",
    "b = np.repeat(1, 20).reshape(2, -1)\n",
    "a"
   ]
  },
  {
   "cell_type": "code",
   "execution_count": 85,
   "id": "84939c2a",
   "metadata": {},
   "outputs": [
    {
     "data": {
      "text/plain": [
       "array([[1, 1, 1, 1, 1, 1, 1, 1, 1, 1],\n",
       "       [1, 1, 1, 1, 1, 1, 1, 1, 1, 1]])"
      ]
     },
     "execution_count": 85,
     "metadata": {},
     "output_type": "execute_result"
    }
   ],
   "source": [
    "b"
   ]
  },
  {
   "cell_type": "code",
   "execution_count": 86,
   "id": "4f4f317a",
   "metadata": {},
   "outputs": [
    {
     "data": {
      "text/plain": [
       "array([[0., 0., 0., 0., 0., 0., 0., 0., 0., 0.],\n",
       "       [0., 0., 0., 0., 0., 0., 0., 0., 0., 0.],\n",
       "       [1., 1., 1., 1., 1., 1., 1., 1., 1., 1.],\n",
       "       [1., 1., 1., 1., 1., 1., 1., 1., 1., 1.]])"
      ]
     },
     "execution_count": 86,
     "metadata": {},
     "output_type": "execute_result"
    }
   ],
   "source": [
    "np.vstack([a, b])"
   ]
  },
  {
   "cell_type": "code",
   "execution_count": 87,
   "id": "30721fa4",
   "metadata": {},
   "outputs": [
    {
     "data": {
      "text/plain": [
       "array([[0., 0., 0., 0., 0., 0., 0., 0., 0., 0., 1., 1., 1., 1., 1., 1.,\n",
       "        1., 1., 1., 1.],\n",
       "       [0., 0., 0., 0., 0., 0., 0., 0., 0., 0., 1., 1., 1., 1., 1., 1.,\n",
       "        1., 1., 1., 1.]])"
      ]
     },
     "execution_count": 87,
     "metadata": {},
     "output_type": "execute_result"
    }
   ],
   "source": [
    "np.hstack([a, b])"
   ]
  },
  {
   "cell_type": "code",
   "execution_count": 88,
   "id": "c4d19f74",
   "metadata": {},
   "outputs": [],
   "source": [
    "c1 = np.array([10,20,30,40,50,60])\n",
    "c2 = np.array([12,20,33,40,55,60])"
   ]
  },
  {
   "cell_type": "code",
   "execution_count": 89,
   "id": "200b2dd7",
   "metadata": {},
   "outputs": [
    {
     "data": {
      "text/plain": [
       "array([20, 40, 60])"
      ]
     },
     "execution_count": 89,
     "metadata": {},
     "output_type": "execute_result"
    }
   ],
   "source": [
    "np.intersect1d(c1, c2)"
   ]
  },
  {
   "cell_type": "code",
   "execution_count": 90,
   "id": "5dd4d058",
   "metadata": {},
   "outputs": [
    {
     "data": {
      "text/plain": [
       "array([10, 30, 50])"
      ]
     },
     "execution_count": 90,
     "metadata": {},
     "output_type": "execute_result"
    }
   ],
   "source": [
    "np.setdiff1d(c1, c2)"
   ]
  },
  {
   "cell_type": "code",
   "execution_count": 91,
   "id": "852c2189",
   "metadata": {},
   "outputs": [],
   "source": [
    "#Farklı durumlara göre eleman işleme"
   ]
  },
  {
   "cell_type": "code",
   "execution_count": 92,
   "id": "ce79ad10",
   "metadata": {},
   "outputs": [
    {
     "data": {
      "text/plain": [
       "(array([1, 4], dtype=int64),)"
      ]
     },
     "execution_count": 92,
     "metadata": {},
     "output_type": "execute_result"
    }
   ],
   "source": [
    "a = np.array([1, 2, 3, 6, 8])\n",
    "b = np.array([10, 2, 30, 60, 8])\n",
    "\n",
    "np.where(a == b)"
   ]
  },
  {
   "cell_type": "code",
   "execution_count": 93,
   "id": "6274b5ac",
   "metadata": {},
   "outputs": [
    {
     "data": {
      "text/plain": [
       "array([2, 8])"
      ]
     },
     "execution_count": 93,
     "metadata": {},
     "output_type": "execute_result"
    }
   ],
   "source": [
    "a[np.where(a == b)]"
   ]
  },
  {
   "cell_type": "code",
   "execution_count": 94,
   "id": "755aec25",
   "metadata": {},
   "outputs": [
    {
     "data": {
      "text/plain": [
       "array([21, 22, 23, 24, 25, 26, 27, 28, 29, 30, 31, 32, 33, 34])"
      ]
     },
     "execution_count": 94,
     "metadata": {},
     "output_type": "execute_result"
    }
   ],
   "source": [
    "a1 = np.arange(0, 60)\n",
    "a1[np.where((a1 > 20) & (a1 < 35))]"
   ]
  },
  {
   "cell_type": "code",
   "execution_count": 95,
   "id": "41412d83",
   "metadata": {},
   "outputs": [
    {
     "data": {
      "text/plain": [
       "array([ 0, 10, 20, 21, 22, 23, 24, 25, 26, 27, 28, 29, 30, 31, 32, 33, 34,\n",
       "       40, 50])"
      ]
     },
     "execution_count": 95,
     "metadata": {},
     "output_type": "execute_result"
    }
   ],
   "source": [
    "a1 = np.arange(0, 60)\n",
    "a1[np.where(((a1 > 20) & (a1 < 35)) | (a1 % 10 == 0))]"
   ]
  },
  {
   "cell_type": "code",
   "execution_count": 96,
   "id": "b9d08955",
   "metadata": {},
   "outputs": [
    {
     "data": {
      "text/plain": [
       "array([21, 22, 23, 24, 25, 26, 27, 28, 29, 30, 31, 32, 33, 34])"
      ]
     },
     "execution_count": 96,
     "metadata": {},
     "output_type": "execute_result"
    }
   ],
   "source": [
    "a1[np.where(np.logical_and(a1 > 20, a1 < 35))]"
   ]
  },
  {
   "cell_type": "code",
   "execution_count": 97,
   "id": "a62dca15",
   "metadata": {},
   "outputs": [],
   "source": [
    "#isin() fonksiyonu"
   ]
  },
  {
   "cell_type": "code",
   "execution_count": 98,
   "id": "5cb1fbd1",
   "metadata": {},
   "outputs": [
    {
     "data": {
      "text/plain": [
       "array([10, 20, 30, 40, 50, 60, 70])"
      ]
     },
     "execution_count": 98,
     "metadata": {},
     "output_type": "execute_result"
    }
   ],
   "source": [
    "a = np.array([10,20,30,40,50,60,70])\n",
    "a"
   ]
  },
  {
   "cell_type": "code",
   "execution_count": 99,
   "id": "b4e53c9b",
   "metadata": {},
   "outputs": [
    {
     "data": {
      "text/plain": [
       "array([False,  True, False, False, False, False, False])"
      ]
     },
     "execution_count": 99,
     "metadata": {},
     "output_type": "execute_result"
    }
   ],
   "source": [
    "np.isin(a, [11,20])"
   ]
  },
  {
   "cell_type": "code",
   "execution_count": 100,
   "id": "9b296161",
   "metadata": {},
   "outputs": [
    {
     "data": {
      "text/plain": [
       "array([20])"
      ]
     },
     "execution_count": 100,
     "metadata": {},
     "output_type": "execute_result"
    }
   ],
   "source": [
    "a[np.isin(a, 20)]"
   ]
  },
  {
   "cell_type": "code",
   "execution_count": 101,
   "id": "54182f44",
   "metadata": {},
   "outputs": [
    {
     "data": {
      "text/plain": [
       "array([False, False, False, False, False, False, False])"
      ]
     },
     "execution_count": 101,
     "metadata": {},
     "output_type": "execute_result"
    }
   ],
   "source": [
    "np.isin(a, 33)"
   ]
  },
  {
   "cell_type": "code",
   "execution_count": 102,
   "id": "4654f96c",
   "metadata": {},
   "outputs": [
    {
     "data": {
      "text/plain": [
       "array([], dtype=int32)"
      ]
     },
     "execution_count": 102,
     "metadata": {},
     "output_type": "execute_result"
    }
   ],
   "source": [
    "a[np.isin(a, 33)]"
   ]
  },
  {
   "cell_type": "code",
   "execution_count": 103,
   "id": "8386b359",
   "metadata": {},
   "outputs": [],
   "source": [
    "#Dizileri Ters Çevirme"
   ]
  },
  {
   "cell_type": "code",
   "execution_count": 104,
   "id": "ae62dc26",
   "metadata": {},
   "outputs": [
    {
     "data": {
      "text/plain": [
       "array([10, 11, 12, 13, 14, 15, 16, 17, 18, 19, 20, 21, 22, 23, 24, 25, 26,\n",
       "       27, 28, 29])"
      ]
     },
     "execution_count": 104,
     "metadata": {},
     "output_type": "execute_result"
    }
   ],
   "source": [
    "a4 = np.arange(10, 30)\n",
    "a4"
   ]
  },
  {
   "cell_type": "code",
   "execution_count": 105,
   "id": "aeb074f6",
   "metadata": {},
   "outputs": [
    {
     "data": {
      "text/plain": [
       "array([29, 28, 27, 26, 25, 24, 23, 22, 21, 20, 19, 18, 17, 16, 15, 14, 13,\n",
       "       12, 11, 10])"
      ]
     },
     "execution_count": 105,
     "metadata": {},
     "output_type": "execute_result"
    }
   ],
   "source": [
    "a4[::-1]"
   ]
  },
  {
   "cell_type": "code",
   "execution_count": 106,
   "id": "27aa3290",
   "metadata": {},
   "outputs": [
    {
     "data": {
      "text/plain": [
       "array([29, 28, 27, 26, 25, 24, 23, 22, 21, 20, 19, 18, 17, 16, 15, 14, 13,\n",
       "       12, 11, 10])"
      ]
     },
     "execution_count": 106,
     "metadata": {},
     "output_type": "execute_result"
    }
   ],
   "source": [
    "np.flip(a4)"
   ]
  },
  {
   "cell_type": "code",
   "execution_count": 107,
   "id": "169c9425",
   "metadata": {},
   "outputs": [
    {
     "data": {
      "text/plain": [
       "array([[ 3,  2,  8,  1],\n",
       "       [70, 50, 10, 67],\n",
       "       [45, 25, 75, 15],\n",
       "       [12,  9, 77,  4]])"
      ]
     },
     "execution_count": 107,
     "metadata": {},
     "output_type": "execute_result"
    }
   ],
   "source": [
    "a3 = np.array([[3,2,8,1], [70, 50, 10, 67], [45, 25, 75, 15], [12, 9, 77 ,4]])\n",
    "a3"
   ]
  },
  {
   "cell_type": "code",
   "execution_count": 108,
   "id": "b751d9a6",
   "metadata": {},
   "outputs": [
    {
     "data": {
      "text/plain": [
       "array([[12,  9, 77,  4],\n",
       "       [45, 25, 75, 15],\n",
       "       [70, 50, 10, 67],\n",
       "       [ 3,  2,  8,  1]])"
      ]
     },
     "execution_count": 108,
     "metadata": {},
     "output_type": "execute_result"
    }
   ],
   "source": [
    "a3[::-1,]"
   ]
  },
  {
   "cell_type": "code",
   "execution_count": 109,
   "id": "9785c4a9",
   "metadata": {},
   "outputs": [
    {
     "data": {
      "text/plain": [
       "array([[ 1,  8,  2,  3],\n",
       "       [67, 10, 50, 70],\n",
       "       [15, 75, 25, 45],\n",
       "       [ 4, 77,  9, 12]])"
      ]
     },
     "execution_count": 109,
     "metadata": {},
     "output_type": "execute_result"
    }
   ],
   "source": [
    "a3[:,::-1]"
   ]
  },
  {
   "cell_type": "code",
   "execution_count": 110,
   "id": "6da76cbb",
   "metadata": {},
   "outputs": [
    {
     "data": {
      "text/plain": [
       "array([[ 4, 77,  9, 12],\n",
       "       [15, 75, 25, 45],\n",
       "       [67, 10, 50, 70],\n",
       "       [ 1,  8,  2,  3]])"
      ]
     },
     "execution_count": 110,
     "metadata": {},
     "output_type": "execute_result"
    }
   ],
   "source": [
    "a3[::-1, ::-1]"
   ]
  },
  {
   "cell_type": "code",
   "execution_count": 111,
   "id": "ae410ecb",
   "metadata": {},
   "outputs": [],
   "source": [
    "#Dizileri Sıralama"
   ]
  },
  {
   "cell_type": "code",
   "execution_count": 112,
   "id": "163586bd",
   "metadata": {},
   "outputs": [
    {
     "data": {
      "text/plain": [
       "array([10,  5,  2, 22, 12, 92, 17, 33])"
      ]
     },
     "execution_count": 112,
     "metadata": {},
     "output_type": "execute_result"
    }
   ],
   "source": [
    "a = np.array([10, 5, 2, 22, 12, 92, 17, 33])\n",
    "a"
   ]
  },
  {
   "cell_type": "code",
   "execution_count": 113,
   "id": "68a59a57",
   "metadata": {},
   "outputs": [
    {
     "data": {
      "text/plain": [
       "array([ 2,  5, 10, 12, 17, 22, 33, 92])"
      ]
     },
     "execution_count": 113,
     "metadata": {},
     "output_type": "execute_result"
    }
   ],
   "source": [
    "np.sort(a) #artan sıralama, ascending"
   ]
  },
  {
   "cell_type": "code",
   "execution_count": 114,
   "id": "61316053",
   "metadata": {},
   "outputs": [
    {
     "data": {
      "text/plain": [
       "array([92, 33, 22, 17, 12, 10,  5,  2])"
      ]
     },
     "execution_count": 114,
     "metadata": {},
     "output_type": "execute_result"
    }
   ],
   "source": [
    "b = np.sort(a)\n",
    "b = b[::-1]\n",
    "b"
   ]
  },
  {
   "cell_type": "code",
   "execution_count": 116,
   "id": "6741597e",
   "metadata": {},
   "outputs": [
    {
     "data": {
      "text/plain": [
       "array([92, 33, 22, 17, 12, 10,  5,  2])"
      ]
     },
     "execution_count": 116,
     "metadata": {},
     "output_type": "execute_result"
    }
   ],
   "source": [
    "c = np.sort(a)\n",
    "np.flip(c)"
   ]
  },
  {
   "cell_type": "code",
   "execution_count": 117,
   "id": "2ca39494",
   "metadata": {},
   "outputs": [
    {
     "data": {
      "text/plain": [
       "array([92, 33, 22, 17, 12, 10,  5,  2])"
      ]
     },
     "execution_count": 117,
     "metadata": {},
     "output_type": "execute_result"
    }
   ],
   "source": [
    "a[::-1].sort()\n",
    "a"
   ]
  },
  {
   "cell_type": "code",
   "execution_count": 118,
   "id": "cc1339a3",
   "metadata": {},
   "outputs": [
    {
     "data": {
      "text/plain": [
       "array([[ 3,  2,  8,  1],\n",
       "       [70, 50, 10, 67],\n",
       "       [45, 25, 75, 15]])"
      ]
     },
     "execution_count": 118,
     "metadata": {},
     "output_type": "execute_result"
    }
   ],
   "source": [
    "a3 = np.array([[3,2,8,1], [70,50,10,67], [45,25,75,15]])\n",
    "a3"
   ]
  },
  {
   "cell_type": "code",
   "execution_count": 119,
   "id": "53fa222f",
   "metadata": {},
   "outputs": [
    {
     "data": {
      "text/plain": [
       "array([[ 1,  2,  3,  8],\n",
       "       [10, 50, 67, 70],\n",
       "       [15, 25, 45, 75]])"
      ]
     },
     "execution_count": 119,
     "metadata": {},
     "output_type": "execute_result"
    }
   ],
   "source": [
    "np.sort(a3)"
   ]
  },
  {
   "cell_type": "code",
   "execution_count": 120,
   "id": "c261f159",
   "metadata": {},
   "outputs": [
    {
     "data": {
      "text/plain": [
       "array([[ 1,  2,  3,  8],\n",
       "       [10, 50, 67, 70],\n",
       "       [15, 25, 45, 75]])"
      ]
     },
     "execution_count": 120,
     "metadata": {},
     "output_type": "execute_result"
    }
   ],
   "source": [
    "np.sort(a3, axis = 1)"
   ]
  },
  {
   "cell_type": "code",
   "execution_count": 121,
   "id": "2de675dc",
   "metadata": {},
   "outputs": [
    {
     "data": {
      "text/plain": [
       "array([[ 3,  2,  8,  1],\n",
       "       [45, 25, 10, 15],\n",
       "       [70, 50, 75, 67]])"
      ]
     },
     "execution_count": 121,
     "metadata": {},
     "output_type": "execute_result"
    }
   ],
   "source": [
    "np.sort(a3, axis = 0)"
   ]
  },
  {
   "cell_type": "code",
   "execution_count": 122,
   "id": "312ea4fa",
   "metadata": {},
   "outputs": [],
   "source": [
    "#Bir dizi içerisindeki tekrar eden elemanları bulmak"
   ]
  },
  {
   "cell_type": "code",
   "execution_count": 123,
   "id": "668b0ddc",
   "metadata": {},
   "outputs": [
    {
     "data": {
      "text/plain": [
       "array([10, 20, 30])"
      ]
     },
     "execution_count": 123,
     "metadata": {},
     "output_type": "execute_result"
    }
   ],
   "source": [
    "b = np.array([10,10,10,20,30,20,30,30,20,10,10,30,10])\n",
    "np.unique(b)"
   ]
  },
  {
   "cell_type": "code",
   "execution_count": 125,
   "id": "7e508abd",
   "metadata": {},
   "outputs": [
    {
     "data": {
      "text/plain": [
       "(array([10, 20, 30]), array([6, 3, 4], dtype=int64))"
      ]
     },
     "execution_count": 125,
     "metadata": {},
     "output_type": "execute_result"
    }
   ],
   "source": [
    "val, count = np.unique(b, return_counts = True)\n",
    "val , count"
   ]
  },
  {
   "cell_type": "code",
   "execution_count": 126,
   "id": "e7ffa753",
   "metadata": {},
   "outputs": [
    {
     "data": {
      "text/plain": [
       "10"
      ]
     },
     "execution_count": 126,
     "metadata": {},
     "output_type": "execute_result"
    }
   ],
   "source": [
    "np.bincount(b).argmax()"
   ]
  },
  {
   "cell_type": "code",
   "execution_count": null,
   "id": "3c537815",
   "metadata": {},
   "outputs": [],
   "source": []
  }
 ],
 "metadata": {
  "kernelspec": {
   "display_name": "Python 3",
   "language": "python",
   "name": "python3"
  },
  "language_info": {
   "codemirror_mode": {
    "name": "ipython",
    "version": 3
   },
   "file_extension": ".py",
   "mimetype": "text/x-python",
   "name": "python",
   "nbconvert_exporter": "python",
   "pygments_lexer": "ipython3",
   "version": "3.8.8"
  }
 },
 "nbformat": 4,
 "nbformat_minor": 5
}
