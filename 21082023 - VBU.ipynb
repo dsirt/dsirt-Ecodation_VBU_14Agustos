{
 "cells": [
  {
   "cell_type": "code",
   "execution_count": 1,
   "id": "aa3518fa",
   "metadata": {},
   "outputs": [],
   "source": [
    "#For loop"
   ]
  },
  {
   "cell_type": "code",
   "execution_count": 2,
   "id": "ee331cfc",
   "metadata": {},
   "outputs": [
    {
     "name": "stdout",
     "output_type": "stream",
     "text": [
      "Current Letter : P\n",
      "Current Letter : y\n",
      "Current Letter : t\n",
      "Current Letter : h\n",
      "Current Letter : o\n",
      "Current Letter : n\n"
     ]
    }
   ],
   "source": [
    "for letter in 'Python':\n",
    "    print('Current Letter :', letter)"
   ]
  },
  {
   "cell_type": "code",
   "execution_count": 3,
   "id": "c6a675c9",
   "metadata": {},
   "outputs": [
    {
     "name": "stdout",
     "output_type": "stream",
     "text": [
      "Current fruit : banana\n",
      "Current fruit : apple\n",
      "Current fruit : mango\n"
     ]
    }
   ],
   "source": [
    "fruits = ['banana', 'apple', 'mango']\n",
    "for fruit in fruits:\n",
    "    print('Current fruit :', fruit)"
   ]
  },
  {
   "cell_type": "code",
   "execution_count": 4,
   "id": "e8f7191e",
   "metadata": {},
   "outputs": [
    {
     "name": "stdout",
     "output_type": "stream",
     "text": [
      "1 * 1 = 1\n",
      "1 * 2 = 2\n",
      "1 * 3 = 3\n",
      "1 * 4 = 4\n",
      "1 * 5 = 5\n",
      "1 * 6 = 6\n",
      "1 * 7 = 7\n",
      "1 * 8 = 8\n",
      "1 * 9 = 9\n",
      "1 * 10 = 10\n",
      "2 * 1 = 2\n",
      "2 * 2 = 4\n",
      "2 * 3 = 6\n",
      "2 * 4 = 8\n",
      "2 * 5 = 10\n",
      "2 * 6 = 12\n",
      "2 * 7 = 14\n",
      "2 * 8 = 16\n",
      "2 * 9 = 18\n",
      "2 * 10 = 20\n",
      "3 * 1 = 3\n",
      "3 * 2 = 6\n",
      "3 * 3 = 9\n",
      "3 * 4 = 12\n",
      "3 * 5 = 15\n",
      "3 * 6 = 18\n",
      "3 * 7 = 21\n",
      "3 * 8 = 24\n",
      "3 * 9 = 27\n",
      "3 * 10 = 30\n",
      "4 * 1 = 4\n",
      "4 * 2 = 8\n",
      "4 * 3 = 12\n",
      "4 * 4 = 16\n",
      "4 * 5 = 20\n",
      "4 * 6 = 24\n",
      "4 * 7 = 28\n",
      "4 * 8 = 32\n",
      "4 * 9 = 36\n",
      "4 * 10 = 40\n",
      "5 * 1 = 5\n",
      "5 * 2 = 10\n",
      "5 * 3 = 15\n",
      "5 * 4 = 20\n",
      "5 * 5 = 25\n",
      "5 * 6 = 30\n",
      "5 * 7 = 35\n",
      "5 * 8 = 40\n",
      "5 * 9 = 45\n",
      "5 * 10 = 50\n",
      "6 * 1 = 6\n",
      "6 * 2 = 12\n",
      "6 * 3 = 18\n",
      "6 * 4 = 24\n",
      "6 * 5 = 30\n",
      "6 * 6 = 36\n",
      "6 * 7 = 42\n",
      "6 * 8 = 48\n",
      "6 * 9 = 54\n",
      "6 * 10 = 60\n",
      "7 * 1 = 7\n",
      "7 * 2 = 14\n",
      "7 * 3 = 21\n",
      "7 * 4 = 28\n",
      "7 * 5 = 35\n",
      "7 * 6 = 42\n",
      "7 * 7 = 49\n",
      "7 * 8 = 56\n",
      "7 * 9 = 63\n",
      "7 * 10 = 70\n",
      "8 * 1 = 8\n",
      "8 * 2 = 16\n",
      "8 * 3 = 24\n",
      "8 * 4 = 32\n",
      "8 * 5 = 40\n",
      "8 * 6 = 48\n",
      "8 * 7 = 56\n",
      "8 * 8 = 64\n",
      "8 * 9 = 72\n",
      "8 * 10 = 80\n",
      "9 * 1 = 9\n",
      "9 * 2 = 18\n",
      "9 * 3 = 27\n",
      "9 * 4 = 36\n",
      "9 * 5 = 45\n",
      "9 * 6 = 54\n",
      "9 * 7 = 63\n",
      "9 * 8 = 72\n",
      "9 * 9 = 81\n",
      "9 * 10 = 90\n",
      "10 * 1 = 10\n",
      "10 * 2 = 20\n",
      "10 * 3 = 30\n",
      "10 * 4 = 40\n",
      "10 * 5 = 50\n",
      "10 * 6 = 60\n",
      "10 * 7 = 70\n",
      "10 * 8 = 80\n",
      "10 * 9 = 90\n",
      "10 * 10 = 100\n"
     ]
    }
   ],
   "source": [
    "for x in range(1, 11):\n",
    "    for y in range(1, 11):\n",
    "        print('%d * %d = %d' % (x, y, x*y))"
   ]
  },
  {
   "cell_type": "code",
   "execution_count": 5,
   "id": "6b129252",
   "metadata": {},
   "outputs": [
    {
     "name": "stdout",
     "output_type": "stream",
     "text": [
      "X is now:  -20\n",
      "X is negative\n",
      "X is negative\n",
      "X is negative\n",
      "X is negative\n",
      "X is negative\n",
      "X is negative\n",
      "X is negative\n",
      "X is negative\n",
      "X is negative\n",
      "X is negative\n",
      "X is negative\n",
      "X is negative\n",
      "X is negative\n",
      "X is negative\n",
      "X is negative\n",
      "X is negative\n",
      "X is negative\n",
      "X is negative\n",
      "X is negative\n",
      "X is now:  0\n",
      "X is now:  1\n",
      "X is now:  2\n",
      "X is now:  3\n",
      "X is now:  4\n",
      "X is now:  5\n",
      "X is now:  6\n",
      "X is now:  7\n",
      "X is now:  8\n",
      "X is now:  9\n",
      "X is now:  10\n",
      "X is now:  11\n",
      "X is now:  12\n",
      "X is now:  13\n",
      "X is now:  14\n",
      "X is now:  15\n",
      "X is now:  16\n",
      "X is now:  17\n",
      "X is now:  18\n",
      "X is now:  19\n",
      "X is now:  20\n"
     ]
    }
   ],
   "source": [
    "x = -20\n",
    "y = 20\n",
    "while x <= y:\n",
    "    print(\"X is now: \", x)\n",
    "    x = x + 1\n",
    "    while x < 0:\n",
    "        print(\"X is negative\")\n",
    "        x = x + 1"
   ]
  },
  {
   "cell_type": "code",
   "execution_count": 6,
   "id": "d1c59730",
   "metadata": {},
   "outputs": [],
   "source": [
    "#Functions"
   ]
  },
  {
   "cell_type": "code",
   "execution_count": 7,
   "id": "81eb2783",
   "metadata": {},
   "outputs": [
    {
     "name": "stdout",
     "output_type": "stream",
     "text": [
      "Barcelona\n",
      "Real Madrid\n"
     ]
    }
   ],
   "source": [
    "def myprint(s1): #Definition\n",
    "    print(s1)\n",
    "    \n",
    "myprint(\"Barcelona\") #Call\n",
    "myprint(\"Real Madrid\")"
   ]
  },
  {
   "cell_type": "code",
   "execution_count": 8,
   "id": "e1ea0df5",
   "metadata": {},
   "outputs": [
    {
     "name": "stdout",
     "output_type": "stream",
     "text": [
      "8\n"
     ]
    }
   ],
   "source": [
    "def add(x, y):\n",
    "    result = x + y\n",
    "    return result\n",
    "print(add(5,3))"
   ]
  },
  {
   "cell_type": "code",
   "execution_count": 10,
   "id": "7693de7c",
   "metadata": {},
   "outputs": [
    {
     "name": "stdout",
     "output_type": "stream",
     "text": [
      "Name:  Tasmanian Devil\n",
      "Age:  19\n",
      "Name:  Bugs Bunny\n",
      "Age:  23\n"
     ]
    }
   ],
   "source": [
    "#default parameter\n",
    "def printinfo(name, age = 23):\n",
    "    print(\"Name: \", name)\n",
    "    print(\"Age: \", age)\n",
    "    \n",
    "printinfo(age = 19, name = \"Tasmanian Devil\")\n",
    "printinfo(name = \"Bugs Bunny\")"
   ]
  },
  {
   "cell_type": "code",
   "execution_count": 11,
   "id": "d55c35de",
   "metadata": {},
   "outputs": [
    {
     "name": "stdout",
     "output_type": "stream",
     "text": [
      "88\n",
      "57\n"
     ]
    }
   ],
   "source": [
    "from random import randint\n",
    "print(randint(0, 100))\n",
    "\n",
    "import random\n",
    "print(random.randint(0, 100))"
   ]
  },
  {
   "cell_type": "code",
   "execution_count": 12,
   "id": "a60a4c42",
   "metadata": {},
   "outputs": [
    {
     "name": "stdout",
     "output_type": "stream",
     "text": [
      "830\n",
      "622\n"
     ]
    }
   ],
   "source": [
    "print(random.randrange(100, 1000, 2))\n",
    "print(random.randrange(100, 1000, 3))"
   ]
  },
  {
   "cell_type": "code",
   "execution_count": 13,
   "id": "ce3145a8",
   "metadata": {},
   "outputs": [
    {
     "name": "stdout",
     "output_type": "stream",
     "text": [
      "57.86540771369445\n",
      "34.198081509887565\n"
     ]
    }
   ],
   "source": [
    "print(random.uniform(18, 81))\n",
    "print(random.uniform(19, 38))"
   ]
  },
  {
   "cell_type": "code",
   "execution_count": 14,
   "id": "05b73e02",
   "metadata": {},
   "outputs": [
    {
     "name": "stdout",
     "output_type": "stream",
     "text": [
      "3.141592653589793\n"
     ]
    }
   ],
   "source": [
    "from math import pi\n",
    "print(pi)"
   ]
  },
  {
   "cell_type": "code",
   "execution_count": 15,
   "id": "34524055",
   "metadata": {},
   "outputs": [
    {
     "name": "stdout",
     "output_type": "stream",
     "text": [
      "78.53981633974483\n"
     ]
    }
   ],
   "source": [
    "import math\n",
    "def area_of_circle(r):\n",
    "    a = r**2 * math.pi\n",
    "    return a\n",
    "print(area_of_circle(5))"
   ]
  },
  {
   "cell_type": "code",
   "execution_count": 16,
   "id": "177c6866",
   "metadata": {},
   "outputs": [],
   "source": [
    "#Anonim Fonksiyonlar: lambda, map, filter, reduce"
   ]
  },
  {
   "cell_type": "code",
   "execution_count": 17,
   "id": "04e9d3e3",
   "metadata": {},
   "outputs": [
    {
     "name": "stdout",
     "output_type": "stream",
     "text": [
      "15\n"
     ]
    }
   ],
   "source": [
    "addition = lambda a : a + 10\n",
    "print(addition(5))"
   ]
  },
  {
   "cell_type": "code",
   "execution_count": 18,
   "id": "0de23dcc",
   "metadata": {},
   "outputs": [
    {
     "name": "stdout",
     "output_type": "stream",
     "text": [
      "30\n"
     ]
    }
   ],
   "source": [
    "product = lambda a, b : a * b\n",
    "print(product(5, 6))"
   ]
  },
  {
   "cell_type": "code",
   "execution_count": 19,
   "id": "5bd6ece2",
   "metadata": {},
   "outputs": [
    {
     "name": "stdout",
     "output_type": "stream",
     "text": [
      "13\n"
     ]
    }
   ],
   "source": [
    "addition = lambda a, b, c : a + b + c\n",
    "print(addition(5, 6, 2))"
   ]
  },
  {
   "cell_type": "code",
   "execution_count": 20,
   "id": "958c8eeb",
   "metadata": {},
   "outputs": [
    {
     "data": {
      "text/plain": [
       "(30, 100, 360)"
      ]
     },
     "execution_count": 20,
     "metadata": {},
     "output_type": "execute_result"
    }
   ],
   "source": [
    "res = (lambda *args : sum(args))\n",
    "res(10, 20), res(10,20,30,40), res(10,20,30,40,50,60,70,80)"
   ]
  },
  {
   "cell_type": "code",
   "execution_count": 21,
   "id": "f7d3cc9c",
   "metadata": {},
   "outputs": [
    {
     "data": {
      "text/plain": [
       "(60, 150)"
      ]
     },
     "execution_count": 21,
     "metadata": {},
     "output_type": "execute_result"
    }
   ],
   "source": [
    "res1 = (lambda **kwargs: sum(kwargs.values()))\n",
    "res1(a = 10, b = 20, c = 30), res1(a = 10, b = 20, c = 30, d = 40, e = 50)"
   ]
  },
  {
   "cell_type": "code",
   "execution_count": 22,
   "id": "e50edf77",
   "metadata": {},
   "outputs": [
    {
     "data": {
      "text/plain": [
       "[1, 3, 5, 7, 9]"
      ]
     },
     "execution_count": 22,
     "metadata": {},
     "output_type": "execute_result"
    }
   ],
   "source": [
    "list1 = [1,2,3,4,5,6,7,8,9]\n",
    "\n",
    "def odd(n):\n",
    "    if n %2 == 1:\n",
    "        return True\n",
    "    else:\n",
    "        return False\n",
    "    \n",
    "odd_num = list(filter(odd, list1))\n",
    "odd_num"
   ]
  },
  {
   "cell_type": "code",
   "execution_count": 23,
   "id": "e719bc73",
   "metadata": {},
   "outputs": [
    {
     "data": {
      "text/plain": [
       "[1, 3, 5, 7, 9]"
      ]
     },
     "execution_count": 23,
     "metadata": {},
     "output_type": "execute_result"
    }
   ],
   "source": [
    "odd_num = list(filter(lambda n : n % 2 == 1, list1))\n",
    "odd_num"
   ]
  },
  {
   "cell_type": "code",
   "execution_count": 24,
   "id": "b819346f",
   "metadata": {},
   "outputs": [
    {
     "data": {
      "text/plain": [
       "[2, 6, 10, 14, 18]"
      ]
     },
     "execution_count": 24,
     "metadata": {},
     "output_type": "execute_result"
    }
   ],
   "source": [
    "def twice(n):\n",
    "    return n*2\n",
    "\n",
    "doubles = list(map(twice, odd_num))\n",
    "doubles"
   ]
  },
  {
   "cell_type": "code",
   "execution_count": 26,
   "id": "13f3141d",
   "metadata": {},
   "outputs": [
    {
     "data": {
      "text/plain": [
       "[2, 6, 10, 14, 18]"
      ]
     },
     "execution_count": 26,
     "metadata": {},
     "output_type": "execute_result"
    }
   ],
   "source": [
    "doubles = list(map(lambda n : n*2, odd_num))\n",
    "doubles"
   ]
  },
  {
   "cell_type": "code",
   "execution_count": 27,
   "id": "e6ff54d7",
   "metadata": {},
   "outputs": [],
   "source": [
    "from functools import reduce"
   ]
  },
  {
   "cell_type": "code",
   "execution_count": 28,
   "id": "cded129c",
   "metadata": {},
   "outputs": [
    {
     "data": {
      "text/plain": [
       "50"
      ]
     },
     "execution_count": 28,
     "metadata": {},
     "output_type": "execute_result"
    }
   ],
   "source": [
    "def add(a, b):\n",
    "    return a + b\n",
    "\n",
    "sum_all = reduce(add, doubles)\n",
    "sum_all"
   ]
  },
  {
   "cell_type": "code",
   "execution_count": 29,
   "id": "fb7453ea",
   "metadata": {},
   "outputs": [
    {
     "data": {
      "text/plain": [
       "50"
      ]
     },
     "execution_count": 29,
     "metadata": {},
     "output_type": "execute_result"
    }
   ],
   "source": [
    "sum_all = reduce(lambda a, b : a + b, doubles)\n",
    "sum_all"
   ]
  },
  {
   "cell_type": "code",
   "execution_count": 30,
   "id": "fb781de3",
   "metadata": {},
   "outputs": [
    {
     "data": {
      "text/plain": [
       "50"
      ]
     },
     "execution_count": 30,
     "metadata": {},
     "output_type": "execute_result"
    }
   ],
   "source": [
    "sum_all = reduce(lambda a,b:a+b, list(map(lambda n:n*2, list(filter(lambda n : n%2 == 1, list1)))))\n",
    "sum_all"
   ]
  },
  {
   "cell_type": "code",
   "execution_count": 31,
   "id": "9ed02638",
   "metadata": {},
   "outputs": [],
   "source": [
    "#Files and Exceptions"
   ]
  },
  {
   "cell_type": "code",
   "execution_count": 32,
   "id": "ff75e105",
   "metadata": {},
   "outputs": [
    {
     "name": "stdout",
     "output_type": "stream",
     "text": [
      "<_io.TextIOWrapper name='2108test' mode='w' encoding='cp1254'>\n"
     ]
    }
   ],
   "source": [
    "f = open(\"2108test\", \"w\")\n",
    "print(f)"
   ]
  },
  {
   "cell_type": "code",
   "execution_count": 33,
   "id": "05afa359",
   "metadata": {},
   "outputs": [],
   "source": [
    "f.write(\"Now is the time\")\n",
    "f.write(\" to close the file\")\n",
    "\n",
    "f.close()"
   ]
  },
  {
   "cell_type": "code",
   "execution_count": 34,
   "id": "ad892519",
   "metadata": {},
   "outputs": [
    {
     "name": "stdout",
     "output_type": "stream",
     "text": [
      "Now is the time to close the file\n"
     ]
    }
   ],
   "source": [
    "f = open(\"2108test\", \"r\")\n",
    "text = f.read()\n",
    "print(text)"
   ]
  },
  {
   "cell_type": "code",
   "execution_count": 35,
   "id": "98081d27",
   "metadata": {},
   "outputs": [
    {
     "name": "stdout",
     "output_type": "stream",
     "text": [
      "Now is\n"
     ]
    }
   ],
   "source": [
    "f = open(\"2108test\", \"r\")\n",
    "text = f.read(6)\n",
    "print(text)"
   ]
  },
  {
   "cell_type": "code",
   "execution_count": 36,
   "id": "4c6756ac",
   "metadata": {},
   "outputs": [
    {
     "name": "stdout",
     "output_type": "stream",
     "text": [
      " the time to close the file\n"
     ]
    }
   ],
   "source": [
    "print(f.read(1000006))"
   ]
  },
  {
   "cell_type": "code",
   "execution_count": 37,
   "id": "3302402d",
   "metadata": {},
   "outputs": [],
   "source": [
    "fo = open(\"2108foo.txt\", \"w\")\n",
    "fo.write(\"Python is a great language.\\n Yeah its great!!\\n\")\n",
    "fo.close()"
   ]
  },
  {
   "cell_type": "code",
   "execution_count": 38,
   "id": "e0f46b8f",
   "metadata": {},
   "outputs": [
    {
     "name": "stdout",
     "output_type": "stream",
     "text": [
      "Our string is :  Python is a great\n"
     ]
    }
   ],
   "source": [
    "fo = open(\"2108foo.txt\", \"r+\")\n",
    "mystr = fo.read(17)\n",
    "print(\"Our string is : \", mystr)"
   ]
  },
  {
   "cell_type": "code",
   "execution_count": 39,
   "id": "afc967ed",
   "metadata": {},
   "outputs": [
    {
     "name": "stdout",
     "output_type": "stream",
     "text": [
      "Current file position : 17\n"
     ]
    }
   ],
   "source": [
    "position = fo.tell()\n",
    "print(\"Current file position :\", position)"
   ]
  },
  {
   "cell_type": "code",
   "execution_count": 40,
   "id": "f3b8e1ec",
   "metadata": {},
   "outputs": [
    {
     "name": "stdout",
     "output_type": "stream",
     "text": [
      "Again our string is :  Python is a great\n"
     ]
    }
   ],
   "source": [
    "position = fo.seek(0, 0)\n",
    "mystr = fo.read(17)\n",
    "print(\"Again our string is : \", mystr)\n",
    "fo.close()"
   ]
  },
  {
   "cell_type": "code",
   "execution_count": 41,
   "id": "fbf1b4ab",
   "metadata": {},
   "outputs": [
    {
     "name": "stdout",
     "output_type": "stream",
     "text": [
      "Error : cannot find file or read data\n"
     ]
    }
   ],
   "source": [
    "#try, except, else, finally\n",
    "try:\n",
    "    fh = open(\"testfile\", \"r\")\n",
    "    fh.write(\"This is my test file for exception handling\")\n",
    "    \n",
    "except IOError:\n",
    "    print(\"Error : cannot find file or read data\")\n",
    "    \n",
    "else:\n",
    "    print(\"Content was written to the file successfully\")"
   ]
  },
  {
   "cell_type": "code",
   "execution_count": 43,
   "id": "7f3d1d22",
   "metadata": {},
   "outputs": [
    {
     "name": "stdout",
     "output_type": "stream",
     "text": [
      "This is true\n",
      "Content was written to the file successfully\n"
     ]
    }
   ],
   "source": [
    "try:\n",
    "    fh = open(\"testfile\", \"w\")\n",
    "    fh.write(\"This is my test file for exception handling\")\n",
    "    \n",
    "except IOError:\n",
    "    print(\"Error : cannot find file or read data\")\n",
    "    \n",
    "else:\n",
    "    print(\"This is true\")\n",
    "    \n",
    "finally:\n",
    "    print(\"Content was written to the file successfully\")"
   ]
  },
  {
   "cell_type": "code",
   "execution_count": 44,
   "id": "83f3d6a7",
   "metadata": {},
   "outputs": [],
   "source": [
    "#Dictionaries (Sözlükler)"
   ]
  },
  {
   "cell_type": "code",
   "execution_count": 47,
   "id": "47d2e136",
   "metadata": {},
   "outputs": [
    {
     "name": "stdout",
     "output_type": "stream",
     "text": [
      "mydict['Name']:  Azra\n",
      "mydict['Age']:  1\n"
     ]
    }
   ],
   "source": [
    "mydict = {'Name' : 'Azra', 'Age' : 1, 'Class' : 'First'}\n",
    "print(\"mydict['Name']: \", mydict['Name'])\n",
    "print(\"mydict['Age']: \", mydict['Age'])"
   ]
  },
  {
   "cell_type": "code",
   "execution_count": 48,
   "id": "8fe67418",
   "metadata": {},
   "outputs": [
    {
     "name": "stdout",
     "output_type": "stream",
     "text": [
      "mydict['Age']:  8\n",
      "mydict['School']:  Primary School\n"
     ]
    }
   ],
   "source": [
    "mydict = {'Name':'Azra', 'Age':1, 'Class':'First'}\n",
    "mydict['Age'] = 8\n",
    "mydict['School'] = \"Primary School\"\n",
    "\n",
    "print(\"mydict['Age']: \", mydict['Age'])\n",
    "print(\"mydict['School']: \", mydict['School'])"
   ]
  },
  {
   "cell_type": "code",
   "execution_count": 49,
   "id": "34229dc9",
   "metadata": {},
   "outputs": [
    {
     "name": "stdout",
     "output_type": "stream",
     "text": [
      "mydict['Name']:  Ayşe\n"
     ]
    }
   ],
   "source": [
    "mydict = {'Name': 'Azra', 'Age':1, 'Name':'Ayşe'}\n",
    "print(\"mydict['Name']: \", mydict['Name'])"
   ]
  },
  {
   "cell_type": "code",
   "execution_count": 50,
   "id": "56a95f7c",
   "metadata": {},
   "outputs": [],
   "source": [
    "mydict = {'Name' : 'Azra', 'Age' : 1, 'Class' : 'First'}\n",
    "del mydict['Name']\n",
    "mydict.clear()\n",
    "del mydict"
   ]
  },
  {
   "cell_type": "code",
   "execution_count": 51,
   "id": "c2cb0772",
   "metadata": {},
   "outputs": [
    {
     "ename": "NameError",
     "evalue": "name 'mydict' is not defined",
     "output_type": "error",
     "traceback": [
      "\u001b[1;31m---------------------------------------------------------------------------\u001b[0m",
      "\u001b[1;31mNameError\u001b[0m                                 Traceback (most recent call last)",
      "\u001b[1;32m<ipython-input-51-700203a7380d>\u001b[0m in \u001b[0;36m<module>\u001b[1;34m\u001b[0m\n\u001b[1;32m----> 1\u001b[1;33m \u001b[0mprint\u001b[0m\u001b[1;33m(\u001b[0m\u001b[1;34m\"mydict['Age']: \"\u001b[0m\u001b[1;33m,\u001b[0m \u001b[0mmydict\u001b[0m\u001b[1;33m[\u001b[0m\u001b[1;34m'Age'\u001b[0m\u001b[1;33m]\u001b[0m\u001b[1;33m)\u001b[0m\u001b[1;33m\u001b[0m\u001b[1;33m\u001b[0m\u001b[0m\n\u001b[0m\u001b[0;32m      2\u001b[0m \u001b[0mprint\u001b[0m\u001b[1;33m(\u001b[0m\u001b[1;34m\"mydict['School']: \"\u001b[0m\u001b[1;33m,\u001b[0m \u001b[0mmydict\u001b[0m\u001b[1;33m[\u001b[0m\u001b[1;34m'School'\u001b[0m\u001b[1;33m]\u001b[0m\u001b[1;33m)\u001b[0m\u001b[1;33m\u001b[0m\u001b[1;33m\u001b[0m\u001b[0m\n",
      "\u001b[1;31mNameError\u001b[0m: name 'mydict' is not defined"
     ]
    }
   ],
   "source": [
    "print(\"mydict['Age']: \", mydict['Age'])\n",
    "print(\"mydict['School']: \", mydict['School'])"
   ]
  },
  {
   "cell_type": "code",
   "execution_count": 52,
   "id": "5d9f75b2",
   "metadata": {},
   "outputs": [
    {
     "name": "stdout",
     "output_type": "stream",
     "text": [
      "555-2222\n"
     ]
    }
   ],
   "source": [
    "phonebook = {'Chris' : '555-1111', 'Katie' : '555-2222'}\n",
    "value = phonebook.get('Katie')\n",
    "print(value)"
   ]
  },
  {
   "cell_type": "code",
   "execution_count": 54,
   "id": "9e7b4ea5",
   "metadata": {},
   "outputs": [
    {
     "name": "stdout",
     "output_type": "stream",
     "text": [
      "Chris : 555-1111\n",
      "Katie : 555-2222\n",
      "Joel : 555-3333\n"
     ]
    }
   ],
   "source": [
    "phonebook = {'Chris' : '555-1111', 'Katie' : '555-2222', 'Joel' : '555-3333'}\n",
    "for key, value in phonebook.items():\n",
    "    print(key, ':', value)"
   ]
  },
  {
   "cell_type": "code",
   "execution_count": 55,
   "id": "5ff6c633",
   "metadata": {},
   "outputs": [
    {
     "data": {
      "text/plain": [
       "7.148994207382202"
      ]
     },
     "execution_count": 55,
     "metadata": {},
     "output_type": "execute_result"
    }
   ],
   "source": [
    "import time\n",
    "\n",
    "def trad_version():\n",
    "    t1 = time.time()\n",
    "    X = range(10000000)\n",
    "    Y = range(10000000)\n",
    "    Z = []\n",
    "    for i in range(len(X)):\n",
    "        Z.append(X[i] + Y[i])\n",
    "    return time.time() - t1\n",
    "\n",
    "trad_version()"
   ]
  },
  {
   "cell_type": "code",
   "execution_count": 56,
   "id": "063cb539",
   "metadata": {},
   "outputs": [
    {
     "data": {
      "text/plain": [
       "0.0500025749206543"
      ]
     },
     "execution_count": 56,
     "metadata": {},
     "output_type": "execute_result"
    }
   ],
   "source": [
    "from numpy import *\n",
    "def numpy_version():\n",
    "    t1 = time.time()\n",
    "    X = arange(10000000)\n",
    "    Y = arange(10000000)\n",
    "    Z = X + Y\n",
    "    return time.time() - t1\n",
    "\n",
    "numpy_version()"
   ]
  },
  {
   "cell_type": "code",
   "execution_count": null,
   "id": "c2b4987c",
   "metadata": {},
   "outputs": [],
   "source": []
  }
 ],
 "metadata": {
  "kernelspec": {
   "display_name": "Python 3",
   "language": "python",
   "name": "python3"
  },
  "language_info": {
   "codemirror_mode": {
    "name": "ipython",
    "version": 3
   },
   "file_extension": ".py",
   "mimetype": "text/x-python",
   "name": "python",
   "nbconvert_exporter": "python",
   "pygments_lexer": "ipython3",
   "version": "3.8.8"
  }
 },
 "nbformat": 4,
 "nbformat_minor": 5
}
