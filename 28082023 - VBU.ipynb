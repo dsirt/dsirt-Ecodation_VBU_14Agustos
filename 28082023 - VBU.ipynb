{
 "cells": [
  {
   "cell_type": "code",
   "execution_count": 1,
   "id": "1d1f1f99",
   "metadata": {},
   "outputs": [],
   "source": [
    "import numpy as np\n",
    "import warnings \n",
    "warnings.filterwarnings('ignore')"
   ]
  },
  {
   "cell_type": "code",
   "execution_count": 2,
   "id": "8a8dc2b3",
   "metadata": {},
   "outputs": [
    {
     "data": {
      "text/plain": [
       "array([[24, 29, 88],\n",
       "       [ 1,  0,  8],\n",
       "       [33,  7, 99],\n",
       "       [39, 11, 98],\n",
       "       [22, 76, 87]])"
      ]
     },
     "execution_count": 2,
     "metadata": {},
     "output_type": "execute_result"
    }
   ],
   "source": [
    "#Load\n",
    "p4 = np.loadtxt('mydata/sample.txt', dtype = np.integer)\n",
    "p4"
   ]
  },
  {
   "cell_type": "code",
   "execution_count": 3,
   "id": "046d2b84",
   "metadata": {},
   "outputs": [
    {
     "data": {
      "text/plain": [
       "array([['Dogu', 'Turkey', 'Football'],\n",
       "       ['John', 'USA', 'Hockey'],\n",
       "       ['Paul', 'Canada', 'Basketball']], dtype='<U10')"
      ]
     },
     "execution_count": 3,
     "metadata": {},
     "output_type": "execute_result"
    }
   ],
   "source": [
    "p5 = np.genfromtxt('mydata/sample0.txt', dtype = 'str')\n",
    "p5"
   ]
  },
  {
   "cell_type": "code",
   "execution_count": 4,
   "id": "6352ccbe",
   "metadata": {},
   "outputs": [
    {
     "data": {
      "text/plain": [
       "array(['Dogu', 'Turkey', 'Football'], dtype='<U10')"
      ]
     },
     "execution_count": 4,
     "metadata": {},
     "output_type": "execute_result"
    }
   ],
   "source": [
    "p5[0]"
   ]
  },
  {
   "cell_type": "code",
   "execution_count": 5,
   "id": "3b6ca053",
   "metadata": {},
   "outputs": [
    {
     "data": {
      "text/plain": [
       "array(['Dogu', 'John', 'Paul'], dtype='<U10')"
      ]
     },
     "execution_count": 5,
     "metadata": {},
     "output_type": "execute_result"
    }
   ],
   "source": [
    "p5[:,0]"
   ]
  },
  {
   "cell_type": "code",
   "execution_count": 6,
   "id": "20b3e236",
   "metadata": {},
   "outputs": [
    {
     "data": {
      "text/plain": [
       "array([[24., 88.],\n",
       "       [ 1.,  8.],\n",
       "       [33., 99.],\n",
       "       [39., 98.],\n",
       "       [22., 87.]])"
      ]
     },
     "execution_count": 6,
     "metadata": {},
     "output_type": "execute_result"
    }
   ],
   "source": [
    "np.loadtxt('mydata/sample.txt', usecols = (0,2))"
   ]
  },
  {
   "cell_type": "code",
   "execution_count": 7,
   "id": "a9d03805",
   "metadata": {},
   "outputs": [
    {
     "data": {
      "text/plain": [
       "array([ 10,  21,  32,  43,  54,  65,  76,  87,  98, 109, 120, 131, 142,\n",
       "       153, 164, 175, 186, 197])"
      ]
     },
     "execution_count": 7,
     "metadata": {},
     "output_type": "execute_result"
    }
   ],
   "source": [
    "#Save\n",
    "p7 = np.arange(10, 200, 11)\n",
    "p7"
   ]
  },
  {
   "cell_type": "code",
   "execution_count": 9,
   "id": "a242f099",
   "metadata": {},
   "outputs": [],
   "source": [
    "np.savetxt('2808-test.csv', p7, delimiter = ',', fmt='%1.1f')"
   ]
  },
  {
   "cell_type": "code",
   "execution_count": 10,
   "id": "62d910ce",
   "metadata": {},
   "outputs": [
    {
     "data": {
      "text/plain": [
       "array([[  0,   1,   2,   3,   4,   5,   6,   7,   8,   9,  10],\n",
       "       [ 11,  12,  13,  14,  15,  16,  17,  18,  19,  20,  21],\n",
       "       [ 22,  23,  24,  25,  26,  27,  28,  29,  30,  31,  32],\n",
       "       [ 33,  34,  35,  36,  37,  38,  39,  40,  41,  42,  43],\n",
       "       [ 44,  45,  46,  47,  48,  49,  50,  51,  52,  53,  54],\n",
       "       [ 55,  56,  57,  58,  59,  60,  61,  62,  63,  64,  65],\n",
       "       [ 66,  67,  68,  69,  70,  71,  72,  73,  74,  75,  76],\n",
       "       [ 77,  78,  79,  80,  81,  82,  83,  84,  85,  86,  87],\n",
       "       [ 88,  89,  90,  91,  92,  93,  94,  95,  96,  97,  98],\n",
       "       [ 99, 100, 101, 102, 103, 104, 105, 106, 107, 108, 109],\n",
       "       [110, 111, 112, 113, 114, 115, 116, 117, 118, 119, 120]])"
      ]
     },
     "execution_count": 10,
     "metadata": {},
     "output_type": "execute_result"
    }
   ],
   "source": [
    "p8 = np.arange(0,121).reshape(11,11)\n",
    "p8"
   ]
  },
  {
   "cell_type": "code",
   "execution_count": 11,
   "id": "c76316c9",
   "metadata": {},
   "outputs": [],
   "source": [
    "np.save('2808-test2.npy', p8)"
   ]
  },
  {
   "cell_type": "code",
   "execution_count": 12,
   "id": "eb635792",
   "metadata": {},
   "outputs": [
    {
     "data": {
      "text/plain": [
       "array([[  0,   1,   2,   3,   4,   5,   6,   7,   8,   9,  10],\n",
       "       [ 11,  12,  13,  14,  15,  16,  17,  18,  19,  20,  21],\n",
       "       [ 22,  23,  24,  25,  26,  27,  28,  29,  30,  31,  32],\n",
       "       [ 33,  34,  35,  36,  37,  38,  39,  40,  41,  42,  43],\n",
       "       [ 44,  45,  46,  47,  48,  49,  50,  51,  52,  53,  54],\n",
       "       [ 55,  56,  57,  58,  59,  60,  61,  62,  63,  64,  65],\n",
       "       [ 66,  67,  68,  69,  70,  71,  72,  73,  74,  75,  76],\n",
       "       [ 77,  78,  79,  80,  81,  82,  83,  84,  85,  86,  87],\n",
       "       [ 88,  89,  90,  91,  92,  93,  94,  95,  96,  97,  98],\n",
       "       [ 99, 100, 101, 102, 103, 104, 105, 106, 107, 108, 109],\n",
       "       [110, 111, 112, 113, 114, 115, 116, 117, 118, 119, 120]])"
      ]
     },
     "execution_count": 12,
     "metadata": {},
     "output_type": "execute_result"
    }
   ],
   "source": [
    "p10 = np.load('2808-test2.npy')\n",
    "p10"
   ]
  },
  {
   "cell_type": "code",
   "execution_count": 13,
   "id": "146b6460",
   "metadata": {},
   "outputs": [
    {
     "data": {
      "text/plain": [
       "array([[     0,      1,      2, ...,    997,    998,    999],\n",
       "       [  1000,   1001,   1002, ...,   1997,   1998,   1999],\n",
       "       [  2000,   2001,   2002, ...,   2997,   2998,   2999],\n",
       "       ...,\n",
       "       [997000, 997001, 997002, ..., 997997, 997998, 997999],\n",
       "       [998000, 998001, 998002, ..., 998997, 998998, 998999],\n",
       "       [999000, 999001, 999002, ..., 999997, 999998, 999999]])"
      ]
     },
     "execution_count": 13,
     "metadata": {},
     "output_type": "execute_result"
    }
   ],
   "source": [
    "p11 = np.arange(0, 1000000).reshape(1000, 1000)\n",
    "p11"
   ]
  },
  {
   "cell_type": "code",
   "execution_count": 14,
   "id": "5e779567",
   "metadata": {},
   "outputs": [],
   "source": [
    "np.savez_compressed('test2808.npz', p11)"
   ]
  },
  {
   "cell_type": "code",
   "execution_count": 15,
   "id": "e2415552",
   "metadata": {},
   "outputs": [],
   "source": [
    "np.save('test2808n.npy', p11)"
   ]
  },
  {
   "cell_type": "code",
   "execution_count": 16,
   "id": "1bb1d3c2",
   "metadata": {},
   "outputs": [],
   "source": [
    "from IPython.display import Image"
   ]
  },
  {
   "cell_type": "code",
   "execution_count": 17,
   "id": "403228e3",
   "metadata": {},
   "outputs": [
    {
     "data": {
      "image/png": "[encoded data removed]",
      "text/plain": [
       "<IPython.core.display.Image object>"
      ]
     },
     "execution_count": 17,
     "metadata": {},
     "output_type": "execute_result"
    }
   ],
   "source": [
    "Image(filename = 'mydata/load_save.PNG')"
   ]
  },
  {
   "cell_type": "code",
   "execution_count": 18,
   "id": "af04d440",
   "metadata": {},
   "outputs": [],
   "source": [
    "#Vector Addition"
   ]
  },
  {
   "cell_type": "code",
   "execution_count": 19,
   "id": "b367e81a",
   "metadata": {},
   "outputs": [
    {
     "name": "stdout",
     "output_type": "stream",
     "text": [
      "V3 =  [4 6]\n"
     ]
    }
   ],
   "source": [
    "v1 = np.array([1,2])\n",
    "v2 = np.array([3,4])\n",
    "#v3 = v1 + v2\n",
    "#OR\n",
    "v3 = np.add(v1, v2)\n",
    "print('V3 = ', v3)"
   ]
  },
  {
   "cell_type": "code",
   "execution_count": 20,
   "id": "b46756a2",
   "metadata": {},
   "outputs": [],
   "source": [
    "#Multiplication"
   ]
  },
  {
   "cell_type": "code",
   "execution_count": 21,
   "id": "d6af1e46",
   "metadata": {},
   "outputs": [
    {
     "name": "stdout",
     "output_type": "stream",
     "text": [
      "[20 42 72]\n"
     ]
    }
   ],
   "source": [
    "a1 = [5, 6, 8]\n",
    "a2 = [4, 7, 9]\n",
    "\n",
    "print(np.multiply(a1, a2))"
   ]
  },
  {
   "cell_type": "code",
   "execution_count": 22,
   "id": "a8079b9e",
   "metadata": {},
   "outputs": [],
   "source": [
    "#Dot Product (Noktasal Çarpım)"
   ]
  },
  {
   "cell_type": "code",
   "execution_count": 23,
   "id": "7ee8a7f4",
   "metadata": {},
   "outputs": [
    {
     "name": "stdout",
     "output_type": "stream",
     "text": [
      "Dot product -  32\n",
      "Dot product using np.dot -  32\n",
      "Dot product using np.inner -  32\n",
      "Dot product using np.multiply & sum -  32\n",
      "Dot product using np.matmul -  32\n",
      "Dot product using for loop -  32\n"
     ]
    }
   ],
   "source": [
    "a1 = np.array([1,2,3])\n",
    "a2 = np.array([4,5,6])\n",
    "\n",
    "dotp = a1@a2\n",
    "print(\"Dot product - \", dotp)\n",
    "\n",
    "dotp = np.dot(a1, a2)\n",
    "print(\"Dot product using np.dot - \", dotp)\n",
    "\n",
    "dotp = np.inner(a1, a2)\n",
    "print(\"Dot product using np.inner - \", dotp)\n",
    "\n",
    "dotp = sum(np.multiply(a1, a2))\n",
    "print(\"Dot product using np.multiply & sum - \", dotp)\n",
    "\n",
    "dotp = np.matmul(a1, a2)\n",
    "print(\"Dot product using np.matmul - \", dotp)\n",
    "\n",
    "dotp = 0\n",
    "for i in range(len(a1)):\n",
    "    dotp = dotp + a1[i]*a2[i]\n",
    "print(\"Dot product using for loop - \", dotp)"
   ]
  },
  {
   "cell_type": "code",
   "execution_count": 24,
   "id": "fd3461d5",
   "metadata": {},
   "outputs": [],
   "source": [
    "#Length of Vector"
   ]
  },
  {
   "cell_type": "code",
   "execution_count": 26,
   "id": "fd44ab97",
   "metadata": {},
   "outputs": [
    {
     "data": {
      "text/plain": [
       "9.539392014169456"
      ]
     },
     "execution_count": 26,
     "metadata": {},
     "output_type": "execute_result"
    }
   ],
   "source": [
    "v3 = np.array([1,2,3,4,5,6])\n",
    "length = np.sqrt(np.dot(v3, v3))\n",
    "length"
   ]
  },
  {
   "cell_type": "code",
   "execution_count": 27,
   "id": "70840422",
   "metadata": {},
   "outputs": [
    {
     "data": {
      "text/plain": [
       "9.539392014169456"
      ]
     },
     "execution_count": 27,
     "metadata": {},
     "output_type": "execute_result"
    }
   ],
   "source": [
    "v3 = np.array([1,2,3,4,5,6])\n",
    "length = np.sqrt(sum(np.multiply(v3, v3)))\n",
    "length"
   ]
  },
  {
   "cell_type": "code",
   "execution_count": 28,
   "id": "02f2348f",
   "metadata": {},
   "outputs": [
    {
     "data": {
      "text/plain": [
       "(3.605551275463989, array([0.5547002 , 0.83205029]))"
      ]
     },
     "execution_count": 28,
     "metadata": {},
     "output_type": "execute_result"
    }
   ],
   "source": [
    "v1 = [2, 3]\n",
    "length_v1 = np.sqrt(np.dot(v1, v1))\n",
    "norm_v1 = v1 / length_v1\n",
    "length_v1, norm_v1"
   ]
  },
  {
   "cell_type": "code",
   "execution_count": 29,
   "id": "98f35b90",
   "metadata": {},
   "outputs": [
    {
     "data": {
      "text/plain": [
       "array([0.5547002 , 0.83205029])"
      ]
     },
     "execution_count": 29,
     "metadata": {},
     "output_type": "execute_result"
    }
   ],
   "source": [
    "v1 = [2, 3]\n",
    "norm_v1 = v1 / np.linalg.norm(v1)\n",
    "norm_v1"
   ]
  },
  {
   "cell_type": "code",
   "execution_count": 30,
   "id": "6c2bf6e7",
   "metadata": {},
   "outputs": [
    {
     "data": {
      "text/plain": [
       "array([[0., 0., 0., 0.],\n",
       "       [0., 0., 0., 0.],\n",
       "       [0., 0., 0., 0.],\n",
       "       [0., 0., 0., 0.]])"
      ]
     },
     "execution_count": 30,
     "metadata": {},
     "output_type": "execute_result"
    }
   ],
   "source": [
    "np.zeros((4,4))"
   ]
  },
  {
   "cell_type": "code",
   "execution_count": 31,
   "id": "e56ace76",
   "metadata": {},
   "outputs": [
    {
     "data": {
      "text/plain": [
       "array([[1., 1., 1., 1., 1.],\n",
       "       [1., 1., 1., 1., 1.],\n",
       "       [1., 1., 1., 1., 1.],\n",
       "       [1., 1., 1., 1., 1.],\n",
       "       [1., 1., 1., 1., 1.]])"
      ]
     },
     "execution_count": 31,
     "metadata": {},
     "output_type": "execute_result"
    }
   ],
   "source": [
    "np.ones((5,5))"
   ]
  },
  {
   "cell_type": "code",
   "execution_count": 34,
   "id": "435af883",
   "metadata": {},
   "outputs": [
    {
     "data": {
      "text/plain": [
       "array([[369, 161,  36, 384,  55, 212, 102, 340, 391, 149],\n",
       "       [ 87,  91, 179, 418, 179,  17,  81,  67, 213, 104],\n",
       "       [469,  62,  82,  23,  70, 426, 211, 256, 194, 422],\n",
       "       [388,  32,  76, 127, 374, 141,  10, 144, 111, 442],\n",
       "       [ 97, 360, 190, 178, 402, 104, 208, 295, 465, 164],\n",
       "       [192, 319, 292, 223, 292, 484, 170, 378, 253, 147],\n",
       "       [212,  50, 447, 343,   7,  67, 292, 226, 237, 417],\n",
       "       [265, 307,  23, 435, 141,  86, 324, 251, 360, 180],\n",
       "       [464, 442, 294, 415, 484, 189, 162, 250, 151, 314],\n",
       "       [410,  32,  51, 202, 379, 462,  86, 226,   3, 265]])"
      ]
     },
     "execution_count": 34,
     "metadata": {},
     "output_type": "execute_result"
    }
   ],
   "source": [
    "mat1 = np.random.randint(0, 500, (10,10))\n",
    "mat1"
   ]
  },
  {
   "cell_type": "code",
   "execution_count": 35,
   "id": "0172f7b8",
   "metadata": {},
   "outputs": [
    {
     "data": {
      "text/plain": [
       "369"
      ]
     },
     "execution_count": 35,
     "metadata": {},
     "output_type": "execute_result"
    }
   ],
   "source": [
    "mat1[0,0]"
   ]
  },
  {
   "cell_type": "code",
   "execution_count": 36,
   "id": "5c787686",
   "metadata": {},
   "outputs": [
    {
     "data": {
      "text/plain": [
       "array([369, 384, 340, 391, 418, 469, 426, 422, 388, 374, 442, 360, 402,\n",
       "       465, 319, 484, 378, 447, 343, 417, 307, 435, 324, 360, 464, 442,\n",
       "       415, 484, 314, 410, 379, 462])"
      ]
     },
     "execution_count": 36,
     "metadata": {},
     "output_type": "execute_result"
    }
   ],
   "source": [
    "mat1[mat1 > 300]"
   ]
  },
  {
   "cell_type": "code",
   "execution_count": 37,
   "id": "34d1034f",
   "metadata": {},
   "outputs": [],
   "source": [
    "#Identity (Birim) Matrix"
   ]
  },
  {
   "cell_type": "code",
   "execution_count": 38,
   "id": "8c2e125c",
   "metadata": {},
   "outputs": [
    {
     "data": {
      "text/plain": [
       "array([[1., 0., 0., 0., 0., 0., 0., 0., 0.],\n",
       "       [0., 1., 0., 0., 0., 0., 0., 0., 0.],\n",
       "       [0., 0., 1., 0., 0., 0., 0., 0., 0.],\n",
       "       [0., 0., 0., 1., 0., 0., 0., 0., 0.],\n",
       "       [0., 0., 0., 0., 1., 0., 0., 0., 0.],\n",
       "       [0., 0., 0., 0., 0., 1., 0., 0., 0.],\n",
       "       [0., 0., 0., 0., 0., 0., 1., 0., 0.],\n",
       "       [0., 0., 0., 0., 0., 0., 0., 1., 0.],\n",
       "       [0., 0., 0., 0., 0., 0., 0., 0., 1.]])"
      ]
     },
     "execution_count": 38,
     "metadata": {},
     "output_type": "execute_result"
    }
   ],
   "source": [
    "I = np.eye(9)\n",
    "I"
   ]
  },
  {
   "cell_type": "code",
   "execution_count": 39,
   "id": "885a7b10",
   "metadata": {},
   "outputs": [],
   "source": [
    "#Diagonal Matrix"
   ]
  },
  {
   "cell_type": "code",
   "execution_count": 40,
   "id": "3b8a8689",
   "metadata": {},
   "outputs": [
    {
     "data": {
      "text/plain": [
       "array([[1, 0, 0, 0, 0, 0, 0, 0],\n",
       "       [0, 2, 0, 0, 0, 0, 0, 0],\n",
       "       [0, 0, 3, 0, 0, 0, 0, 0],\n",
       "       [0, 0, 0, 4, 0, 0, 0, 0],\n",
       "       [0, 0, 0, 0, 5, 0, 0, 0],\n",
       "       [0, 0, 0, 0, 0, 6, 0, 0],\n",
       "       [0, 0, 0, 0, 0, 0, 7, 0],\n",
       "       [0, 0, 0, 0, 0, 0, 0, 8]])"
      ]
     },
     "execution_count": 40,
     "metadata": {},
     "output_type": "execute_result"
    }
   ],
   "source": [
    "D = np.diag([1,2,3,4,5,6,7,8])\n",
    "D"
   ]
  },
  {
   "cell_type": "code",
   "execution_count": 41,
   "id": "df6e3826",
   "metadata": {},
   "outputs": [],
   "source": [
    "#Triangular (Üçgen) Matrix"
   ]
  },
  {
   "cell_type": "code",
   "execution_count": 42,
   "id": "def4b920",
   "metadata": {},
   "outputs": [
    {
     "name": "stdout",
     "output_type": "stream",
     "text": [
      "our matrix - \n",
      " [[ 1.16443593 -0.93197933  0.11180584 -1.28485623 -0.29711911]\n",
      " [ 0.71133599  0.24070265  0.55658718  1.09899347 -1.26479707]\n",
      " [ 0.3828262   1.26826965 -0.15401369  0.34135717  1.20247574]\n",
      " [-0.18806776  0.75302209  0.66005679  0.23223233  0.69697239]\n",
      " [ 0.32307525 -0.31948021 -0.04127082  1.31006937  0.18050898]]\n",
      "lower triangular matrix - \n",
      " [[ 1.16443593  0.          0.          0.          0.        ]\n",
      " [ 0.71133599  0.24070265  0.          0.          0.        ]\n",
      " [ 0.3828262   1.26826965 -0.15401369  0.          0.        ]\n",
      " [-0.18806776  0.75302209  0.66005679  0.23223233  0.        ]\n",
      " [ 0.32307525 -0.31948021 -0.04127082  1.31006937  0.18050898]]\n",
      "upper triangular matrix - \n",
      " [[ 1.16443593 -0.93197933  0.11180584 -1.28485623 -0.29711911]\n",
      " [ 0.          0.24070265  0.55658718  1.09899347 -1.26479707]\n",
      " [ 0.          0.         -0.15401369  0.34135717  1.20247574]\n",
      " [ 0.          0.          0.          0.23223233  0.69697239]\n",
      " [ 0.          0.          0.          0.          0.18050898]]\n"
     ]
    }
   ],
   "source": [
    "M = np.random.randn(5,5)\n",
    "U = np.triu(M)\n",
    "L = np.tril(M)\n",
    "\n",
    "print(\"our matrix - \\n\", M)\n",
    "\n",
    "print(\"lower triangular matrix - \\n\", L)\n",
    "\n",
    "print(\"upper triangular matrix - \\n\", U)"
   ]
  },
  {
   "cell_type": "code",
   "execution_count": 44,
   "id": "14806541",
   "metadata": {},
   "outputs": [
    {
     "data": {
      "text/plain": [
       "array([[ 1,  2,  3,  4],\n",
       "       [ 5,  6,  7,  8],\n",
       "       [10, 11, 12, 13],\n",
       "       [14, 15, 16, 17]])"
      ]
     },
     "execution_count": 44,
     "metadata": {},
     "output_type": "execute_result"
    }
   ],
   "source": [
    "A = np.array([[1,2,3,4], [5,6,7,8], [10,11,12,13], [14,15,16,17]])\n",
    "A"
   ]
  },
  {
   "cell_type": "code",
   "execution_count": 45,
   "id": "a491f756",
   "metadata": {},
   "outputs": [
    {
     "data": {
      "text/plain": [
       "array([ 1,  2,  3,  4,  5,  6,  7,  8, 10, 11, 12, 13, 14, 15, 16, 17])"
      ]
     },
     "execution_count": 45,
     "metadata": {},
     "output_type": "execute_result"
    }
   ],
   "source": [
    "A.flatten() #collapse matrix"
   ]
  },
  {
   "cell_type": "code",
   "execution_count": 46,
   "id": "dbec4599",
   "metadata": {},
   "outputs": [
    {
     "data": {
      "text/plain": [
       "array([ 1,  2,  3,  4,  5,  6,  7,  8, 10, 11, 12, 13, 14, 15, 16, 17])"
      ]
     },
     "execution_count": 46,
     "metadata": {},
     "output_type": "execute_result"
    }
   ],
   "source": [
    "A.ravel()"
   ]
  },
  {
   "cell_type": "code",
   "execution_count": 47,
   "id": "6c854c16",
   "metadata": {},
   "outputs": [],
   "source": [
    "#SWAP Rows & Columns"
   ]
  },
  {
   "cell_type": "code",
   "execution_count": 51,
   "id": "7d3abbce",
   "metadata": {},
   "outputs": [
    {
     "data": {
      "text/plain": [
       "array([[ 0,  1,  2,  3],\n",
       "       [ 4,  5,  6,  7],\n",
       "       [ 8,  9, 10, 11],\n",
       "       [12, 13, 14, 15]])"
      ]
     },
     "execution_count": 51,
     "metadata": {},
     "output_type": "execute_result"
    }
   ],
   "source": [
    "m1 = np.arange(0,16).reshape(4,4)\n",
    "m1"
   ]
  },
  {
   "cell_type": "code",
   "execution_count": 52,
   "id": "9a340d9d",
   "metadata": {},
   "outputs": [
    {
     "data": {
      "text/plain": [
       "array([[ 4,  5,  6,  7],\n",
       "       [ 0,  1,  2,  3],\n",
       "       [ 8,  9, 10, 11],\n",
       "       [12, 13, 14, 15]])"
      ]
     },
     "execution_count": 52,
     "metadata": {},
     "output_type": "execute_result"
    }
   ],
   "source": [
    "m1[[0, 1]] = m1[[1, 0]]\n",
    "m1"
   ]
  },
  {
   "cell_type": "code",
   "execution_count": 53,
   "id": "b9256256",
   "metadata": {},
   "outputs": [
    {
     "data": {
      "text/plain": [
       "array([[ 0,  1,  2,  3,  4,  5],\n",
       "       [ 6,  7,  8,  9, 10, 11],\n",
       "       [12, 13, 14, 15, 16, 17],\n",
       "       [18, 19, 20, 21, 22, 23],\n",
       "       [24, 25, 26, 27, 28, 29],\n",
       "       [30, 31, 32, 33, 34, 35]])"
      ]
     },
     "execution_count": 53,
     "metadata": {},
     "output_type": "execute_result"
    }
   ],
   "source": [
    "m2 = np.arange(0, 36).reshape(6,6)\n",
    "m2"
   ]
  },
  {
   "cell_type": "code",
   "execution_count": 54,
   "id": "e18d5842",
   "metadata": {},
   "outputs": [
    {
     "data": {
      "text/plain": [
       "array([[ 1,  0,  2,  3,  4,  5],\n",
       "       [ 7,  6,  8,  9, 10, 11],\n",
       "       [13, 12, 14, 15, 16, 17],\n",
       "       [19, 18, 20, 21, 22, 23],\n",
       "       [25, 24, 26, 27, 28, 29],\n",
       "       [31, 30, 32, 33, 34, 35]])"
      ]
     },
     "execution_count": 54,
     "metadata": {},
     "output_type": "execute_result"
    }
   ],
   "source": [
    "m2[:, [0,1]] = m2[:, [1,0]]\n",
    "m2"
   ]
  },
  {
   "cell_type": "code",
   "execution_count": 55,
   "id": "2f8ba1df",
   "metadata": {},
   "outputs": [],
   "source": [
    "#Transpose"
   ]
  },
  {
   "cell_type": "code",
   "execution_count": 56,
   "id": "7bf4c4d1",
   "metadata": {},
   "outputs": [
    {
     "name": "stdout",
     "output_type": "stream",
     "text": [
      "\n",
      "Transpose of M ==> \n",
      " [[ 1  4  7]\n",
      " [ 2 -3  8]\n",
      " [ 3  6  0]]\n",
      "\n",
      "Transpose of M ==> \n",
      " [[ 1  4  7]\n",
      " [ 2 -3  8]\n",
      " [ 3  6  0]]\n"
     ]
    }
   ],
   "source": [
    "M = np.array([[1,2,3], [4,-3,6], [7,8,0]])\n",
    "\n",
    "print(\"\\nTranspose of M ==> \\n\", np.transpose(M))\n",
    "\n",
    "#OR\n",
    "\n",
    "print(\"\\nTranspose of M ==> \\n\", M.T)"
   ]
  },
  {
   "cell_type": "code",
   "execution_count": 57,
   "id": "584e8cfe",
   "metadata": {},
   "outputs": [
    {
     "name": "stdout",
     "output_type": "stream",
     "text": [
      "\n",
      "Determinant of M ==>  195.0\n"
     ]
    }
   ],
   "source": [
    "M = np.array([[1,2,3], [4,-3,6], [7,8,0]])\n",
    "\n",
    "print(\"\\nDeterminant of M ==> \", np.linalg.det(M))"
   ]
  },
  {
   "cell_type": "code",
   "execution_count": 58,
   "id": "686e1c74",
   "metadata": {},
   "outputs": [
    {
     "name": "stdout",
     "output_type": "stream",
     "text": [
      "\n",
      " Inverse of M ==> \n",
      " [[-0.24615385  0.12307692  0.10769231]\n",
      " [ 0.21538462 -0.10769231  0.03076923]\n",
      " [ 0.27179487  0.03076923 -0.05641026]]\n"
     ]
    }
   ],
   "source": [
    "M = np.array([[1,2,3], [4,-3,6], [7,8,0]])\n",
    "\n",
    "print(\"\\n Inverse of M ==> \\n\", np.linalg.inv(M))"
   ]
  },
  {
   "cell_type": "code",
   "execution_count": 59,
   "id": "be351f57",
   "metadata": {},
   "outputs": [],
   "source": [
    "#Matrix Powers"
   ]
  },
  {
   "cell_type": "code",
   "execution_count": 60,
   "id": "aba8e55b",
   "metadata": {},
   "outputs": [
    {
     "data": {
      "text/plain": [
       "array([[1, 2],\n",
       "       [4, 5]])"
      ]
     },
     "execution_count": 60,
     "metadata": {},
     "output_type": "execute_result"
    }
   ],
   "source": [
    "M1 = np.array([[1,2], [4,5]])\n",
    "M1"
   ]
  },
  {
   "cell_type": "code",
   "execution_count": 61,
   "id": "ba7b65eb",
   "metadata": {},
   "outputs": [
    {
     "data": {
      "text/plain": [
       "array([[ 57,  78],\n",
       "       [156, 213]])"
      ]
     },
     "execution_count": 61,
     "metadata": {},
     "output_type": "execute_result"
    }
   ],
   "source": [
    "M1@M1@M1"
   ]
  },
  {
   "cell_type": "code",
   "execution_count": 62,
   "id": "aa95b69f",
   "metadata": {},
   "outputs": [
    {
     "data": {
      "text/plain": [
       "array([[ 57,  78],\n",
       "       [156, 213]])"
      ]
     },
     "execution_count": 62,
     "metadata": {},
     "output_type": "execute_result"
    }
   ],
   "source": [
    "np.linalg.matrix_power(M1, 3)"
   ]
  },
  {
   "cell_type": "code",
   "execution_count": 63,
   "id": "dee4bc4d",
   "metadata": {},
   "outputs": [],
   "source": [
    "#Tensors"
   ]
  },
  {
   "cell_type": "code",
   "execution_count": 64,
   "id": "3b928aa0",
   "metadata": {},
   "outputs": [
    {
     "data": {
      "text/plain": [
       "array([[[  1,   2,   3],\n",
       "        [  4,   5,   6],\n",
       "        [  7,   8,   9]],\n",
       "\n",
       "       [[ 10,  20,  30],\n",
       "        [ 40,  50,  60],\n",
       "        [ 70,  80,  90]],\n",
       "\n",
       "       [[100, 200, 300],\n",
       "        [400, 500, 600],\n",
       "        [700, 800, 900]]])"
      ]
     },
     "execution_count": 64,
     "metadata": {},
     "output_type": "execute_result"
    }
   ],
   "source": [
    "T1 = np.array([\n",
    "    [[1,2,3], [4,5,6], [7,8,9]],\n",
    "    [[10, 20, 30], [40, 50, 60], [70, 80, 90]],\n",
    "    [[100, 200, 300], [400, 500, 600], [700, 800, 900]],\n",
    "])\n",
    "\n",
    "T1"
   ]
  },
  {
   "cell_type": "code",
   "execution_count": 65,
   "id": "0a6854c3",
   "metadata": {},
   "outputs": [
    {
     "data": {
      "text/plain": [
       "array([[[0, 0, 0],\n",
       "        [0, 0, 0],\n",
       "        [0, 0, 0]],\n",
       "\n",
       "       [[1, 1, 1],\n",
       "        [1, 1, 1],\n",
       "        [1, 1, 1]],\n",
       "\n",
       "       [[2, 2, 2],\n",
       "        [2, 2, 2],\n",
       "        [2, 2, 2]]])"
      ]
     },
     "execution_count": 65,
     "metadata": {},
     "output_type": "execute_result"
    }
   ],
   "source": [
    "T2 = np.array([\n",
    "    [[0,0,0], [0,0,0], [0,0,0]],\n",
    "    [[1,1,1], [1,1,1], [1,1,1]],\n",
    "    [[2,2,2], [2,2,2], [2,2,2]]\n",
    "])\n",
    "\n",
    "T2"
   ]
  },
  {
   "cell_type": "code",
   "execution_count": 66,
   "id": "a4fb19a2",
   "metadata": {},
   "outputs": [
    {
     "data": {
      "text/plain": [
       "array([[[  1,   2,   3],\n",
       "        [  4,   5,   6],\n",
       "        [  7,   8,   9]],\n",
       "\n",
       "       [[ 11,  21,  31],\n",
       "        [ 41,  51,  61],\n",
       "        [ 71,  81,  91]],\n",
       "\n",
       "       [[102, 202, 302],\n",
       "        [402, 502, 602],\n",
       "        [702, 802, 902]]])"
      ]
     },
     "execution_count": 66,
     "metadata": {},
     "output_type": "execute_result"
    }
   ],
   "source": [
    "A = T1 + T2\n",
    "A"
   ]
  },
  {
   "cell_type": "code",
   "execution_count": 67,
   "id": "67b7c9c4",
   "metadata": {},
   "outputs": [
    {
     "data": {
      "text/plain": [
       "array([[[  1,   2,   3],\n",
       "        [  4,   5,   6],\n",
       "        [  7,   8,   9]],\n",
       "\n",
       "       [[ 11,  21,  31],\n",
       "        [ 41,  51,  61],\n",
       "        [ 71,  81,  91]],\n",
       "\n",
       "       [[102, 202, 302],\n",
       "        [402, 502, 602],\n",
       "        [702, 802, 902]]])"
      ]
     },
     "execution_count": 67,
     "metadata": {},
     "output_type": "execute_result"
    }
   ],
   "source": [
    "np.add(T1, T2)"
   ]
  },
  {
   "cell_type": "code",
   "execution_count": 69,
   "id": "0cf1ea88",
   "metadata": {},
   "outputs": [
    {
     "data": {
      "text/plain": [
       "array([[[  1,   2,   3],\n",
       "        [  4,   5,   6],\n",
       "        [  7,   8,   9]],\n",
       "\n",
       "       [[  9,  19,  29],\n",
       "        [ 39,  49,  59],\n",
       "        [ 69,  79,  89]],\n",
       "\n",
       "       [[ 98, 198, 298],\n",
       "        [398, 498, 598],\n",
       "        [698, 798, 898]]])"
      ]
     },
     "execution_count": 69,
     "metadata": {},
     "output_type": "execute_result"
    }
   ],
   "source": [
    "S = T1 - T2\n",
    "S"
   ]
  },
  {
   "cell_type": "code",
   "execution_count": 70,
   "id": "c73d5db9",
   "metadata": {},
   "outputs": [
    {
     "data": {
      "text/plain": [
       "array([[[  1,   2,   3],\n",
       "        [  4,   5,   6],\n",
       "        [  7,   8,   9]],\n",
       "\n",
       "       [[  9,  19,  29],\n",
       "        [ 39,  49,  59],\n",
       "        [ 69,  79,  89]],\n",
       "\n",
       "       [[ 98, 198, 298],\n",
       "        [398, 498, 598],\n",
       "        [698, 798, 898]]])"
      ]
     },
     "execution_count": 70,
     "metadata": {},
     "output_type": "execute_result"
    }
   ],
   "source": [
    "np.subtract(T1, T2)"
   ]
  },
  {
   "cell_type": "code",
   "execution_count": 71,
   "id": "69ae65d6",
   "metadata": {},
   "outputs": [
    {
     "data": {
      "text/plain": [
       "array([[[   0,    0,    0],\n",
       "        [   0,    0,    0],\n",
       "        [   0,    0,    0]],\n",
       "\n",
       "       [[  10,   20,   30],\n",
       "        [  40,   50,   60],\n",
       "        [  70,   80,   90]],\n",
       "\n",
       "       [[ 200,  400,  600],\n",
       "        [ 800, 1000, 1200],\n",
       "        [1400, 1600, 1800]]])"
      ]
     },
     "execution_count": 71,
     "metadata": {},
     "output_type": "execute_result"
    }
   ],
   "source": [
    "P = T1 * T2\n",
    "P"
   ]
  },
  {
   "cell_type": "code",
   "execution_count": 72,
   "id": "9a017f7d",
   "metadata": {},
   "outputs": [
    {
     "data": {
      "text/plain": [
       "array([[[   0,    0,    0],\n",
       "        [   0,    0,    0],\n",
       "        [   0,    0,    0]],\n",
       "\n",
       "       [[  10,   20,   30],\n",
       "        [  40,   50,   60],\n",
       "        [  70,   80,   90]],\n",
       "\n",
       "       [[ 200,  400,  600],\n",
       "        [ 800, 1000, 1200],\n",
       "        [1400, 1600, 1800]]])"
      ]
     },
     "execution_count": 72,
     "metadata": {},
     "output_type": "execute_result"
    }
   ],
   "source": [
    "np.multiply(T1, T2)"
   ]
  },
  {
   "cell_type": "code",
   "execution_count": 73,
   "id": "3cb20a27",
   "metadata": {},
   "outputs": [
    {
     "data": {
      "text/plain": [
       "array([[[ inf,  inf,  inf],\n",
       "        [ inf,  inf,  inf],\n",
       "        [ inf,  inf,  inf]],\n",
       "\n",
       "       [[ 10.,  20.,  30.],\n",
       "        [ 40.,  50.,  60.],\n",
       "        [ 70.,  80.,  90.]],\n",
       "\n",
       "       [[ 50., 100., 150.],\n",
       "        [200., 250., 300.],\n",
       "        [350., 400., 450.]]])"
      ]
     },
     "execution_count": 73,
     "metadata": {},
     "output_type": "execute_result"
    }
   ],
   "source": [
    "D = T1 / T2\n",
    "D"
   ]
  },
  {
   "cell_type": "code",
   "execution_count": 74,
   "id": "4f393258",
   "metadata": {},
   "outputs": [
    {
     "data": {
      "text/plain": [
       "array([[[ inf,  inf,  inf],\n",
       "        [ inf,  inf,  inf],\n",
       "        [ inf,  inf,  inf]],\n",
       "\n",
       "       [[ 10.,  20.,  30.],\n",
       "        [ 40.,  50.,  60.],\n",
       "        [ 70.,  80.,  90.]],\n",
       "\n",
       "       [[ 50., 100., 150.],\n",
       "        [200., 250., 300.],\n",
       "        [350., 400., 450.]]])"
      ]
     },
     "execution_count": 74,
     "metadata": {},
     "output_type": "execute_result"
    }
   ],
   "source": [
    "np.divide(T1, T2)"
   ]
  },
  {
   "cell_type": "code",
   "execution_count": 75,
   "id": "49bb8259",
   "metadata": {},
   "outputs": [],
   "source": [
    "#Denklem Çözme, Ax = B"
   ]
  },
  {
   "cell_type": "code",
   "execution_count": 84,
   "id": "f9913bfd",
   "metadata": {},
   "outputs": [
    {
     "data": {
      "text/plain": [
       "array([[ 1,  2,  3],\n",
       "       [ 4, -3,  6],\n",
       "       [ 7,  8,  0]])"
      ]
     },
     "execution_count": 84,
     "metadata": {},
     "output_type": "execute_result"
    }
   ],
   "source": [
    "A = np.array([[1,2,3], [4,-3,6], [7,8,0]])\n",
    "A"
   ]
  },
  {
   "cell_type": "code",
   "execution_count": 85,
   "id": "75c1cd5c",
   "metadata": {},
   "outputs": [
    {
     "data": {
      "text/plain": [
       "array([[0.02947716],\n",
       "       [0.38320817],\n",
       "       [0.86777957]])"
      ]
     },
     "execution_count": 85,
     "metadata": {},
     "output_type": "execute_result"
    }
   ],
   "source": [
    "B = np.random.random((3,1))\n",
    "B"
   ]
  },
  {
   "cell_type": "code",
   "execution_count": 86,
   "id": "17dc32e8",
   "metadata": {},
   "outputs": [
    {
     "data": {
      "text/plain": [
       "array([[ 0.13336135],\n",
       "       [-0.00821874],\n",
       "       [-0.02914891]])"
      ]
     },
     "execution_count": 86,
     "metadata": {},
     "output_type": "execute_result"
    }
   ],
   "source": [
    "#1. metot\n",
    "X = np.linalg.inv(A)@B\n",
    "X"
   ]
  },
  {
   "cell_type": "code",
   "execution_count": 87,
   "id": "ad4a9cda",
   "metadata": {},
   "outputs": [
    {
     "data": {
      "text/plain": [
       "array([[ 0.13336135],\n",
       "       [-0.00821874],\n",
       "       [-0.02914891]])"
      ]
     },
     "execution_count": 87,
     "metadata": {},
     "output_type": "execute_result"
    }
   ],
   "source": [
    "#2. metot\n",
    "X = np.dot(np.linalg.inv(A), B)\n",
    "X"
   ]
  },
  {
   "cell_type": "code",
   "execution_count": 88,
   "id": "5b3bf3da",
   "metadata": {},
   "outputs": [
    {
     "data": {
      "text/plain": [
       "array([[ 0.13336135],\n",
       "       [-0.00821874],\n",
       "       [-0.02914891]])"
      ]
     },
     "execution_count": 88,
     "metadata": {},
     "output_type": "execute_result"
    }
   ],
   "source": [
    "#3. metot\n",
    "X = np.matmul(np.linalg.inv(A), B)\n",
    "X"
   ]
  },
  {
   "cell_type": "code",
   "execution_count": 89,
   "id": "ef7af91a",
   "metadata": {},
   "outputs": [],
   "source": [
    "#PANDAS"
   ]
  },
  {
   "cell_type": "code",
   "execution_count": 90,
   "id": "a6495015",
   "metadata": {},
   "outputs": [],
   "source": [
    "import pandas as pd"
   ]
  },
  {
   "cell_type": "code",
   "execution_count": 91,
   "id": "d4287a89",
   "metadata": {},
   "outputs": [],
   "source": [
    "#Series"
   ]
  },
  {
   "cell_type": "code",
   "execution_count": 92,
   "id": "1be1cdf8",
   "metadata": {},
   "outputs": [
    {
     "data": {
      "text/plain": [
       "0    1\n",
       "1    2\n",
       "2    3\n",
       "3    4\n",
       "4    5\n",
       "5    6\n",
       "6    7\n",
       "dtype: int32"
      ]
     },
     "execution_count": 92,
     "metadata": {},
     "output_type": "execute_result"
    }
   ],
   "source": [
    "v = np.array([1,2,3,4,5,6,7])\n",
    "s1 = pd.Series(v)\n",
    "s1"
   ]
  },
  {
   "cell_type": "code",
   "execution_count": 93,
   "id": "943fce05",
   "metadata": {},
   "outputs": [
    {
     "data": {
      "text/plain": [
       "dtype('int32')"
      ]
     },
     "execution_count": 93,
     "metadata": {},
     "output_type": "execute_result"
    }
   ],
   "source": [
    "s1.dtype"
   ]
  },
  {
   "cell_type": "code",
   "execution_count": 95,
   "id": "d6896bf7",
   "metadata": {},
   "outputs": [
    {
     "name": "stdout",
     "output_type": "stream",
     "text": [
      "4\n"
     ]
    }
   ],
   "source": [
    "print(s1.values.itemsize)"
   ]
  },
  {
   "cell_type": "code",
   "execution_count": 96,
   "id": "a386d087",
   "metadata": {},
   "outputs": [
    {
     "data": {
      "text/plain": [
       "28"
      ]
     },
     "execution_count": 96,
     "metadata": {},
     "output_type": "execute_result"
    }
   ],
   "source": [
    "s1.nbytes"
   ]
  },
  {
   "cell_type": "code",
   "execution_count": 98,
   "id": "d387fbee",
   "metadata": {},
   "outputs": [
    {
     "data": {
      "text/plain": [
       "7"
      ]
     },
     "execution_count": 98,
     "metadata": {},
     "output_type": "execute_result"
    }
   ],
   "source": [
    "len(s1)"
   ]
  },
  {
   "cell_type": "code",
   "execution_count": 99,
   "id": "b54dafb6",
   "metadata": {},
   "outputs": [
    {
     "data": {
      "text/plain": [
       "7"
      ]
     },
     "execution_count": 99,
     "metadata": {},
     "output_type": "execute_result"
    }
   ],
   "source": [
    "s1.count()"
   ]
  },
  {
   "cell_type": "code",
   "execution_count": 100,
   "id": "8ebea1b6",
   "metadata": {},
   "outputs": [
    {
     "data": {
      "text/plain": [
       "a    1\n",
       "b    2\n",
       "c    3\n",
       "dtype: int64"
      ]
     },
     "execution_count": 100,
     "metadata": {},
     "output_type": "execute_result"
    }
   ],
   "source": [
    "s0 = pd.Series([1,2,3], index = ['a', 'b', 'c'])\n",
    "s0"
   ]
  },
  {
   "cell_type": "code",
   "execution_count": 101,
   "id": "47806fa9",
   "metadata": {},
   "outputs": [
    {
     "data": {
      "text/plain": [
       "a    1\n",
       "b    2\n",
       "c    3\n",
       "d    4\n",
       "e    5\n",
       "f    6\n",
       "g    7\n",
       "dtype: int32"
      ]
     },
     "execution_count": 101,
     "metadata": {},
     "output_type": "execute_result"
    }
   ],
   "source": [
    "s1.index = ['a', 'b', 'c', 'd', 'e', 'f', 'g']\n",
    "s1"
   ]
  },
  {
   "cell_type": "code",
   "execution_count": 102,
   "id": "6bd3b51d",
   "metadata": {},
   "outputs": [
    {
     "data": {
      "text/plain": [
       "(array([0.46033698, 0.74692649, 0.85977106, 0.70397886, 0.95222233,\n",
       "        0.71502977, 0.35540831, 0.20132106, 0.8943099 , 0.20505662]),\n",
       " array([0, 1, 2, 3, 4, 5, 6, 7, 8, 9]),\n",
       " 0    0.460337\n",
       " 1    0.746926\n",
       " 2    0.859771\n",
       " 3    0.703979\n",
       " 4    0.952222\n",
       " 5    0.715030\n",
       " 6    0.355408\n",
       " 7    0.201321\n",
       " 8    0.894310\n",
       " 9    0.205057\n",
       " dtype: float64)"
      ]
     },
     "execution_count": 102,
     "metadata": {},
     "output_type": "execute_result"
    }
   ],
   "source": [
    "v2 = np.random.random(10)\n",
    "ind2 = np.arange(0, 10)\n",
    "s = pd.Series(v2, ind2)\n",
    "v2, ind2, s"
   ]
  },
  {
   "cell_type": "code",
   "execution_count": 103,
   "id": "b09ac2a7",
   "metadata": {},
   "outputs": [
    {
     "data": {
      "text/plain": [
       "8"
      ]
     },
     "execution_count": 103,
     "metadata": {},
     "output_type": "execute_result"
    }
   ],
   "source": [
    "s.values.itemsize"
   ]
  },
  {
   "cell_type": "code",
   "execution_count": 104,
   "id": "bbfbd837",
   "metadata": {},
   "outputs": [
    {
     "data": {
      "text/plain": [
       "80"
      ]
     },
     "execution_count": 104,
     "metadata": {},
     "output_type": "execute_result"
    }
   ],
   "source": [
    "s.nbytes"
   ]
  },
  {
   "cell_type": "code",
   "execution_count": 105,
   "id": "0fe7eda4",
   "metadata": {},
   "outputs": [
    {
     "data": {
      "text/plain": [
       "a1    10\n",
       "a2    20\n",
       "a3    30\n",
       "a4    40\n",
       "dtype: int64"
      ]
     },
     "execution_count": 105,
     "metadata": {},
     "output_type": "execute_result"
    }
   ],
   "source": [
    "dict1 = {'a1' : 10, 'a2' : 20, 'a3' : 30, 'a4' : 40}\n",
    "s3 = pd.Series(dict1)\n",
    "s3"
   ]
  },
  {
   "cell_type": "code",
   "execution_count": 106,
   "id": "0aa89f33",
   "metadata": {},
   "outputs": [
    {
     "data": {
      "text/plain": [
       "0    99\n",
       "1    99\n",
       "2    99\n",
       "3    99\n",
       "4    99\n",
       "5    99\n",
       "dtype: int64"
      ]
     },
     "execution_count": 106,
     "metadata": {},
     "output_type": "execute_result"
    }
   ],
   "source": [
    "pd.Series(99, index = [0,1,2,3,4,5])"
   ]
  },
  {
   "cell_type": "code",
   "execution_count": 107,
   "id": "d7d84b28",
   "metadata": {},
   "outputs": [],
   "source": [
    "#Slicing"
   ]
  },
  {
   "cell_type": "code",
   "execution_count": 146,
   "id": "5a5e33b1",
   "metadata": {},
   "outputs": [
    {
     "data": {
      "text/plain": [
       "0    0.460337\n",
       "1    0.746926\n",
       "2    0.859771\n",
       "3    0.703979\n",
       "4    0.952222\n",
       "5    0.715030\n",
       "6    0.355408\n",
       "7    0.201321\n",
       "8    0.894310\n",
       "9    0.205057\n",
       "dtype: float64"
      ]
     },
     "execution_count": 146,
     "metadata": {},
     "output_type": "execute_result"
    }
   ],
   "source": [
    "s"
   ]
  },
  {
   "cell_type": "code",
   "execution_count": 147,
   "id": "60e24763",
   "metadata": {},
   "outputs": [
    {
     "data": {
      "text/plain": [
       "0    0.460337\n",
       "1    0.746926\n",
       "2    0.859771\n",
       "dtype: float64"
      ]
     },
     "execution_count": 147,
     "metadata": {},
     "output_type": "execute_result"
    }
   ],
   "source": [
    "s[0:3]"
   ]
  },
  {
   "cell_type": "code",
   "execution_count": 148,
   "id": "a868402d",
   "metadata": {},
   "outputs": [
    {
     "data": {
      "text/plain": [
       "7    0.201321\n",
       "8    0.894310\n",
       "dtype: float64"
      ]
     },
     "execution_count": 148,
     "metadata": {},
     "output_type": "execute_result"
    }
   ],
   "source": [
    "s[-3:-1]"
   ]
  },
  {
   "cell_type": "code",
   "execution_count": 151,
   "id": "5c88ebe8",
   "metadata": {},
   "outputs": [
    {
     "data": {
      "text/plain": [
       "7    0.201321\n",
       "8    0.894310\n",
       "9    0.205057\n",
       "dtype: float64"
      ]
     },
     "execution_count": 151,
     "metadata": {},
     "output_type": "execute_result"
    }
   ],
   "source": [
    "s[-3:]"
   ]
  },
  {
   "cell_type": "code",
   "execution_count": null,
   "id": "63e11c7d",
   "metadata": {},
   "outputs": [],
   "source": [
    "#Append (Sonuna Ekleme)"
   ]
  },
  {
   "cell_type": "code",
   "execution_count": 115,
   "id": "f94a4571",
   "metadata": {},
   "outputs": [
    {
     "data": {
      "text/plain": [
       "a    1\n",
       "b    2\n",
       "c    3\n",
       "d    4\n",
       "e    5\n",
       "f    6\n",
       "g    7\n",
       "dtype: int32"
      ]
     },
     "execution_count": 115,
     "metadata": {},
     "output_type": "execute_result"
    }
   ],
   "source": [
    "s2 = s1.copy()\n",
    "s2"
   ]
  },
  {
   "cell_type": "code",
   "execution_count": 116,
   "id": "f638455f",
   "metadata": {},
   "outputs": [
    {
     "data": {
      "text/plain": [
       "a1    10\n",
       "a2    20\n",
       "a3    30\n",
       "a4    40\n",
       "dtype: int64"
      ]
     },
     "execution_count": 116,
     "metadata": {},
     "output_type": "execute_result"
    }
   ],
   "source": [
    "s3"
   ]
  },
  {
   "cell_type": "code",
   "execution_count": 120,
   "id": "d0588258",
   "metadata": {},
   "outputs": [
    {
     "data": {
      "text/plain": [
       "a      1\n",
       "b      2\n",
       "c      3\n",
       "d      4\n",
       "e      5\n",
       "f      6\n",
       "g      7\n",
       "a1    10\n",
       "a2    20\n",
       "a3    30\n",
       "a4    40\n",
       "dtype: int64"
      ]
     },
     "execution_count": 120,
     "metadata": {},
     "output_type": "execute_result"
    }
   ],
   "source": [
    "s4 = s2._append(s3)\n",
    "s4"
   ]
  },
  {
   "cell_type": "code",
   "execution_count": 121,
   "id": "45698c58",
   "metadata": {},
   "outputs": [
    {
     "data": {
      "text/plain": [
       "a      1\n",
       "b      2\n",
       "c      3\n",
       "d      4\n",
       "e      5\n",
       "f      6\n",
       "g      7\n",
       "a1    10\n",
       "a2    20\n",
       "a3    30\n",
       "dtype: int64"
      ]
     },
     "execution_count": 121,
     "metadata": {},
     "output_type": "execute_result"
    }
   ],
   "source": [
    "s4.drop('a4', inplace = False)"
   ]
  },
  {
   "cell_type": "code",
   "execution_count": 122,
   "id": "af265117",
   "metadata": {},
   "outputs": [
    {
     "data": {
      "text/plain": [
       "a      1\n",
       "b      2\n",
       "c      3\n",
       "d      4\n",
       "e      5\n",
       "f      6\n",
       "g      7\n",
       "a1    10\n",
       "a2    20\n",
       "a3    30\n",
       "a4    40\n",
       "dtype: int64"
      ]
     },
     "execution_count": 122,
     "metadata": {},
     "output_type": "execute_result"
    }
   ],
   "source": [
    "s4"
   ]
  },
  {
   "cell_type": "code",
   "execution_count": 123,
   "id": "9cc3b9c0",
   "metadata": {},
   "outputs": [],
   "source": [
    "s4.drop('a4', inplace = True)"
   ]
  },
  {
   "cell_type": "code",
   "execution_count": 124,
   "id": "dd976dc4",
   "metadata": {},
   "outputs": [
    {
     "data": {
      "text/plain": [
       "a      1\n",
       "b      2\n",
       "c      3\n",
       "d      4\n",
       "e      5\n",
       "f      6\n",
       "g      7\n",
       "a1    10\n",
       "a2    20\n",
       "a3    30\n",
       "dtype: int64"
      ]
     },
     "execution_count": 124,
     "metadata": {},
     "output_type": "execute_result"
    }
   ],
   "source": [
    "s4"
   ]
  },
  {
   "cell_type": "code",
   "execution_count": 126,
   "id": "97aa3187",
   "metadata": {},
   "outputs": [
    {
     "data": {
      "text/plain": [
       "a      1\n",
       "b      2\n",
       "c      3\n",
       "d      4\n",
       "e      5\n",
       "f      6\n",
       "g      7\n",
       "a1    10\n",
       "a2    20\n",
       "a3    30\n",
       "a4     7\n",
       "dtype: int64"
      ]
     },
     "execution_count": 126,
     "metadata": {},
     "output_type": "execute_result"
    }
   ],
   "source": [
    "s4 = s4._append(pd.Series({'a4' : 7}))\n",
    "s4"
   ]
  },
  {
   "cell_type": "code",
   "execution_count": 127,
   "id": "8fb77847",
   "metadata": {},
   "outputs": [],
   "source": [
    "#Seriler üzerinde yapılan işlemler"
   ]
  },
  {
   "cell_type": "code",
   "execution_count": 128,
   "id": "91dc5625",
   "metadata": {},
   "outputs": [
    {
     "data": {
      "text/plain": [
       "(0    10\n",
       " 1    20\n",
       " 2    30\n",
       " dtype: int32,\n",
       " 0    1\n",
       " 1    2\n",
       " 2    3\n",
       " dtype: int32)"
      ]
     },
     "execution_count": 128,
     "metadata": {},
     "output_type": "execute_result"
    }
   ],
   "source": [
    "v1 = np.array([10,20,30])\n",
    "v2 = np.array([1,2,3])\n",
    "s1 = pd.Series(v1)\n",
    "s2 = pd.Series(v2)\n",
    "s1, s2"
   ]
  },
  {
   "cell_type": "code",
   "execution_count": 129,
   "id": "f8767737",
   "metadata": {},
   "outputs": [
    {
     "data": {
      "text/plain": [
       "0    11\n",
       "1    22\n",
       "2    33\n",
       "dtype: int32"
      ]
     },
     "execution_count": 129,
     "metadata": {},
     "output_type": "execute_result"
    }
   ],
   "source": [
    "s1.add(s2)"
   ]
  },
  {
   "cell_type": "code",
   "execution_count": 130,
   "id": "023783cd",
   "metadata": {},
   "outputs": [
    {
     "data": {
      "text/plain": [
       "0     9\n",
       "1    18\n",
       "2    27\n",
       "dtype: int32"
      ]
     },
     "execution_count": 130,
     "metadata": {},
     "output_type": "execute_result"
    }
   ],
   "source": [
    "s1.sub(s2)"
   ]
  },
  {
   "cell_type": "code",
   "execution_count": 131,
   "id": "6dc954b7",
   "metadata": {},
   "outputs": [
    {
     "data": {
      "text/plain": [
       "0     9\n",
       "1    18\n",
       "2    27\n",
       "dtype: int32"
      ]
     },
     "execution_count": 131,
     "metadata": {},
     "output_type": "execute_result"
    }
   ],
   "source": [
    "s1.subtract(s2)"
   ]
  },
  {
   "cell_type": "code",
   "execution_count": 132,
   "id": "f841e967",
   "metadata": {},
   "outputs": [
    {
     "data": {
      "text/plain": [
       "0    19\n",
       "1    29\n",
       "2    39\n",
       "dtype: int32"
      ]
     },
     "execution_count": 132,
     "metadata": {},
     "output_type": "execute_result"
    }
   ],
   "source": [
    "s1.add(9)"
   ]
  },
  {
   "cell_type": "code",
   "execution_count": 133,
   "id": "c8cd12d6",
   "metadata": {},
   "outputs": [
    {
     "data": {
      "text/plain": [
       "0    10\n",
       "1    40\n",
       "2    90\n",
       "dtype: int32"
      ]
     },
     "execution_count": 133,
     "metadata": {},
     "output_type": "execute_result"
    }
   ],
   "source": [
    "s1.mul(s2)"
   ]
  },
  {
   "cell_type": "code",
   "execution_count": 134,
   "id": "41baa176",
   "metadata": {},
   "outputs": [
    {
     "data": {
      "text/plain": [
       "0    10\n",
       "1    40\n",
       "2    90\n",
       "dtype: int32"
      ]
     },
     "execution_count": 134,
     "metadata": {},
     "output_type": "execute_result"
    }
   ],
   "source": [
    "s1.multiply(s2)"
   ]
  },
  {
   "cell_type": "code",
   "execution_count": 135,
   "id": "1e85fce0",
   "metadata": {},
   "outputs": [
    {
     "data": {
      "text/plain": [
       "0    10000\n",
       "1    20000\n",
       "2    30000\n",
       "dtype: int32"
      ]
     },
     "execution_count": 135,
     "metadata": {},
     "output_type": "execute_result"
    }
   ],
   "source": [
    "s1.multiply(1000)"
   ]
  },
  {
   "cell_type": "code",
   "execution_count": 136,
   "id": "b62271a0",
   "metadata": {},
   "outputs": [
    {
     "data": {
      "text/plain": [
       "0    10.0\n",
       "1    10.0\n",
       "2    10.0\n",
       "dtype: float64"
      ]
     },
     "execution_count": 136,
     "metadata": {},
     "output_type": "execute_result"
    }
   ],
   "source": [
    "s1.divide(s2)"
   ]
  },
  {
   "cell_type": "code",
   "execution_count": 137,
   "id": "78d9c26a",
   "metadata": {},
   "outputs": [
    {
     "data": {
      "text/plain": [
       "0    10.0\n",
       "1    10.0\n",
       "2    10.0\n",
       "dtype: float64"
      ]
     },
     "execution_count": 137,
     "metadata": {},
     "output_type": "execute_result"
    }
   ],
   "source": [
    "s1.div(s2)"
   ]
  },
  {
   "cell_type": "code",
   "execution_count": 138,
   "id": "1fb471d7",
   "metadata": {},
   "outputs": [],
   "source": [
    "#max(), min(), mean(), median(), std(), equals()"
   ]
  },
  {
   "cell_type": "code",
   "execution_count": 140,
   "id": "fa324c45",
   "metadata": {},
   "outputs": [
    {
     "data": {
      "text/plain": [
       "0    1\n",
       "1    1\n",
       "2    2\n",
       "3    2\n",
       "4    3\n",
       "5    3\n",
       "dtype: int64"
      ]
     },
     "execution_count": 140,
     "metadata": {},
     "output_type": "execute_result"
    }
   ],
   "source": [
    "s5 = pd.Series([1, 1, 2, 2, 3, 3], index = [0, 1, 2, 3, 4, 5])\n",
    "s5"
   ]
  },
  {
   "cell_type": "code",
   "execution_count": 142,
   "id": "5822a7b3",
   "metadata": {},
   "outputs": [
    {
     "data": {
      "text/plain": [
       "1    2\n",
       "2    2\n",
       "3    2\n",
       "Name: count, dtype: int64"
      ]
     },
     "execution_count": 142,
     "metadata": {},
     "output_type": "execute_result"
    }
   ],
   "source": [
    "s5.value_counts()"
   ]
  },
  {
   "cell_type": "code",
   "execution_count": null,
   "id": "cafddd3e",
   "metadata": {},
   "outputs": [],
   "source": [
    "#Dataframes (Veri Çerçeveleri)"
   ]
  }
 ],
 "metadata": {
  "kernelspec": {
   "display_name": "Python 3 (ipykernel)",
   "language": "python",
   "name": "python3"
  },
  "language_info": {
   "codemirror_mode": {
    "name": "ipython",
    "version": 3
   },
   "file_extension": ".py",
   "mimetype": "text/x-python",
   "name": "python",
   "nbconvert_exporter": "python",
   "pygments_lexer": "ipython3",
   "version": "3.11.4"
  }
 },
 "nbformat": 4,
 "nbformat_minor": 5
}
